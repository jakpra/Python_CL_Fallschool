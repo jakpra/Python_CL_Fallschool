{
 "cells": [
  {
   "cell_type": "markdown",
   "id": "b3bf855f-c6dd-4b53-84a1-b969746a4093",
   "metadata": {},
   "source": [
    "# Just as progressive\n",
    "\n",
    "__Authors:__ Godfred, Klym, Nadine\n",
    "\n",
    "__Data:__ UD_English-GUM_train\n",
    "\n",
    "__Research Question:__\n",
    "\n",
    "- Is the frequency of use of the progressive genre-specific?\n",
    "\n",
    "__Background:__\n",
    "\n",
    "- The spoken genre reflects the real-time nature of conversation and interaction, such as *podcasts*.\n",
    "- The written genre reflects less spontaneous and more descriptive, even more formal, use of language, such as *letters*.\n",
    "\n",
    "__Hypotheses:__\n",
    "\n",
    "- The progressive is more frequent in podcasts than in letters.\n",
    "\n",
    "__Code Structure:__\n",
    "\n",
    "- import libraries\n",
    "- load dataset\n",
    "- create list of dictionaries out of the sentences within the dataset\n",
    "    - goal: map morphological segmentation (morphological annotations) with dependency relations (syntactic annotation) on a token basis grouped by sentence and genre\n",
    "- run three filters\n",
    "    - genre filter: filter for target genres and write them to separate lists\n",
    "    - ing filter: filter for all ing-forms to catch all target verb forms with the morphological segmentation annotations\n",
    "    - progressive filter: filter for all progessive uses with the dependency relation annotations\n",
    "\n",
    "__Results:__\n",
    "\n",
    "- The hypothesis is not confirmed.\n",
    "\n",
    "__Discussion:__\n",
    "\n",
    "- Although the genres are of different modalities, both may contain pre-scripted language, thereby reflecting less use of the progressive in the podcast genre (e.g. planned discussions and structured interviews that may also be part of the podcast genre).\n",
    "- The reason why letters contain progressive may be rooted in the fact that letters can contain narrative structure as well as differences in registers (e.g. compare letters written between mother and daughter and letters written from a citizen to the government).\n",
    "\n",
    "__Conclusion:__\n",
    "\n",
    "- There is within-gene variability that needs to be inspected to further test this hypothesis.\n"
   ]
  },
  {
   "cell_type": "markdown",
   "id": "688dc039-f3e6-4e65-8bc8-db8d35cc8aba",
   "metadata": {},
   "source": [
    "**Packages**"
   ]
  },
  {
   "cell_type": "code",
   "execution_count": 1,
   "id": "436ae01f-8e7b-4dd0-83b6-4a1370edb515",
   "metadata": {},
   "outputs": [],
   "source": [
    "import re, pathlib, csv\n",
    "import numpy as np\n",
    "import matplotlib as mpl\n",
    "import matplotlib.pyplot as plt"
   ]
  },
  {
   "cell_type": "markdown",
   "id": "70fa6f20-1d05-403c-8fa3-cb3e8050a0c6",
   "metadata": {},
   "source": [
    "**Text Preprocessing**"
   ]
  },
  {
   "cell_type": "code",
   "execution_count": 2,
   "id": "13ccb864-c742-4342-bac0-d9567b8a395a",
   "metadata": {},
   "outputs": [
    {
     "name": "stdout",
     "output_type": "stream",
     "text": [
      "UD_English-GUM\\en_gum-ud-train.conllu\n"
     ]
    }
   ],
   "source": [
    "infile = pathlib.Path('UD_English-GUM').glob('en_gum-ud-train.conllu')\n",
    "#infile = pathlib.Path('UD_English-GUM').glob('test_project.txt')\n",
    "\n",
    "for file in infile:\n",
    "    print(file)\n",
    "    all_dicts = []\n",
    "    doc_dict = {}\n",
    "    doc = []\n",
    "    sentence_list = []\n",
    "    new_doc = str()\n",
    "    genre = str()\n",
    "    text_tokenized = str()\n",
    "    annos = []\n",
    "    with open(file, encoding = 'utf8') as f:\n",
    "        for line in f:                    \n",
    "            line = line.strip()\n",
    "            if line.startswith('# newdoc id'):\n",
    "                new_doc = re.sub(r'# newdoc id = ', '', line)\n",
    "            if line.startswith('# meta::genre'):\n",
    "                genre = re.sub(r'# meta::genre = ', '', line)\n",
    "            if line.startswith('# text'):\n",
    "                text_tokenized = re.sub(r'# text = ', '', line)\n",
    "            if line.startswith('#'):\n",
    "                continue\n",
    "            doc_genre_tuple = (new_doc, genre, text_tokenized, *annos)\n",
    "            doc.append(doc_genre_tuple)\n",
    "            annos = []\n",
    "            if not line:\n",
    "                sentence_list.append(doc)\n",
    "                doc = []\n",
    "            else: \n",
    "                fields = line.split('\\t')\n",
    "                ID = fields[0]\n",
    "                word = fields[1]\n",
    "                lemma = fields[2]\n",
    "                upos = fields[3]\n",
    "                xpos = fields[4]\n",
    "                morph = fields[5]\n",
    "                head = fields[6]\n",
    "                deprel = fields[7]\n",
    "                head_deprel = fields[8]\n",
    "                misc = fields[9]\n",
    "                #print('word is', word, '; lemma is', lemma, '; part-of-speech is', upos, '; dependency relation is', deprel)\n",
    "                annos = [ID, misc, head_deprel]\n",
    "    for item in sentence_list:\n",
    "        key = (item[0][1])\n",
    "        #print(key)\n",
    "        value = []\n",
    "        for element in item[1:]:\n",
    "            value.append(element[3:]) # tuples of text, and ideally then also ID, FORM, LEMMA, ...\n",
    "        doc_dict = {key: value}\n",
    "        #print(doc_dict)\n",
    "        #break\n",
    "        all_dicts.append(doc_dict)\n",
    "    #print(len(all_dicts))\n",
    "    #print(all_dicts[0:10])\n",
    "    #print(len(sentence_list), '\\n', sentence_list[5500:5505])"
   ]
  },
  {
   "cell_type": "markdown",
   "id": "5c84542c-c8f5-4bb8-b610-6e7d1ef00aea",
   "metadata": {},
   "source": [
    "**Function Definitions**"
   ]
  },
  {
   "cell_type": "code",
   "execution_count": 3,
   "id": "2825d735-b5b2-4dca-a25c-f43993094040",
   "metadata": {},
   "outputs": [],
   "source": [
    "def dict_filter(genre_specification, all_dicts):\n",
    "    genre_list = []\n",
    "    for j in all_dicts:\n",
    "        #print(*j.keys())\n",
    "        for key in j:\n",
    "            #print(key)\n",
    "            if key == genre_specification:\n",
    "                genre_list.append(*j.values())\n",
    "                #print(j)\n",
    "    return genre_list"
   ]
  },
  {
   "cell_type": "code",
   "execution_count": 4,
   "id": "ce392f0f-6e01-4a8b-a01b-d56fafeb27d0",
   "metadata": {},
   "outputs": [],
   "source": [
    "def ing_filter(genre_list):\n",
    "    sent_with_continuous = []\n",
    "    for sentence in genre_list:\n",
    "        for token in sentence:\n",
    "            if re.search('-ing', token[1]):\n",
    "                sent_with_continuous.append(sentence)\n",
    "    return sent_with_continuous"
   ]
  },
  {
   "cell_type": "code",
   "execution_count": 5,
   "id": "4ee47837-77aa-49b4-ade6-8378cd1c7571",
   "metadata": {},
   "outputs": [],
   "source": [
    "def prog_filter(cont_list):\n",
    "    sent_with_prog = []\n",
    "    auxs = []\n",
    "    ings = []\n",
    "    for cont_sent in cont_list:\n",
    "        for cont_token in cont_sent:\n",
    "            #print(cont_token)\n",
    "            if re.search('[0-9]*:aux', cont_token[2]):\n",
    "                aux_head = re.sub(':aux', '', cont_token[2])\n",
    "                auxs.append(aux_head)\n",
    "                #print(aux_head)\n",
    "            if re.search('-ing', cont_token[1]):\n",
    "                ing_token = cont_token[0]\n",
    "                ings.append(ing_token)\n",
    "        #print(auxs, ings)\n",
    "        for a,b in zip(auxs, ings):\n",
    "            if a in ings:\n",
    "                if cont_sent not in sent_with_prog:\n",
    "                    #print(a,b)\n",
    "                    sent_with_prog.append(cont_sent)\n",
    "                    #print(cont_sent)\n",
    "            elif b in auxs:\n",
    "                if cont_sent not in sent_with_prog:\n",
    "                    #print(a,b)\n",
    "                    sent_with_prog.append(cont_sent)\n",
    "                    #print(cont_sent)\n",
    "    return sent_with_prog"
   ]
  },
  {
   "cell_type": "markdown",
   "id": "7b5a2807-81e7-4e2f-9d25-ff3bee26921d",
   "metadata": {},
   "source": [
    "**Function Execution**"
   ]
  },
  {
   "cell_type": "code",
   "execution_count": 6,
   "id": "2fb690ed-76cf-460e-88b6-4e9f68c74b23",
   "metadata": {},
   "outputs": [],
   "source": [
    "podcast_list = dict_filter('podcast', all_dicts)\n",
    "#print(len(podcast_list))\n",
    "letter_list = dict_filter('letter', all_dicts)\n",
    "#print(len(letter_list))\n",
    "#print(letter_list[0])\n",
    "\n",
    "podcast_cont = ing_filter(podcast_list)\n",
    "#print(len(podcast_cont))\n",
    "letter_cont = ing_filter(letter_list)\n",
    "#print(len(letter_cont))\n",
    "\n",
    "podcast_prog = prog_filter(podcast_cont)\n",
    "#print(len(podcast_prog))\n",
    "letter_prog = prog_filter(letter_cont)\n",
    "#print(len(letter_prog))\n",
    "#print(letter_prog)"
   ]
  },
  {
   "cell_type": "markdown",
   "id": "3bc6aff7-7279-469b-befe-6d7c32c8cf70",
   "metadata": {},
   "source": [
    "**Data Frame**"
   ]
  },
  {
   "cell_type": "code",
   "execution_count": 7,
   "id": "3e1d2123-85d4-4b0c-8598-87dd625bc0ea",
   "metadata": {},
   "outputs": [],
   "source": [
    "NoSent_podcast = len(podcast_list)\n",
    "NoSent_letter = len(letter_list)\n",
    "NoProg_podcast = len(podcast_prog)\n",
    "NoProg_letter = len(letter_prog)\n",
    "\n",
    "norm_NoProg_podcast = round(NoProg_podcast*10000/NoSent_podcast)\n",
    "norm_NoProg_letter = round(NoProg_letter*10000/NoSent_letter)\n",
    "\n",
    "data = [['genre', 'number_of_sentence_prog', 'total_number_of_sentence', 'normalized_progressive'],\n",
    "        ['podcast', NoProg_podcast, NoSent_podcast, norm_NoProg_podcast],\n",
    "        ['letter', NoProg_letter, NoSent_letter, norm_NoProg_letter]]"
   ]
  },
  {
   "cell_type": "markdown",
   "id": "e499f8aa-f558-4872-a1cb-ebe0edaa9344",
   "metadata": {},
   "source": [
    "**Plot**"
   ]
  },
  {
   "cell_type": "code",
   "execution_count": 8,
   "id": "2dc0ae69-8b84-4124-a3e2-bab16640de9b",
   "metadata": {},
   "outputs": [
    {
     "data": {
      "image/png": "[encoded data removed]",
      "text/plain": [
       "<Figure size 640x480 with 1 Axes>"
      ]
     },
     "metadata": {},
     "output_type": "display_data"
    }
   ],
   "source": [
    "color = (0.2, # redness\n",
    "         0.4, # greenness\n",
    "         0.2, # blueness\n",
    "         0.6 # transparency\n",
    "         ) \n",
    "\n",
    "height = [norm_NoProg_podcast, norm_NoProg_letter]\n",
    "bars = ('podcast', 'letter')\n",
    "x_pos = np.arange(len(bars))\n",
    "\n",
    "# Create bars\n",
    "plt.bar(x_pos, height,color=color)\n",
    "\n",
    "# Create names on the x-axis\n",
    "plt.xticks(x_pos, bars)\n",
    "\n",
    "# Show graphic\n",
    "plt.savefig('JustAsProgressive.png', dpi=100)\n",
    "plt.show()"
   ]
  },
  {
   "cell_type": "markdown",
   "id": "c993c4ea-a98d-4744-84c2-ad735c2acb35",
   "metadata": {},
   "source": [
    "**Write data to file**"
   ]
  },
  {
   "cell_type": "code",
   "execution_count": 9,
   "id": "7c6958ed-7fd4-4c25-8caf-f850b3f5b7f7",
   "metadata": {},
   "outputs": [],
   "source": [
    "with open('JustAsProgressive.csv', newline='', mode = 'w') as csvfile:\n",
    "    progressive = csv.writer(csvfile, delimiter ='\\t')\n",
    "    progressive.writerows(data)"
   ]
  }
 ],
 "metadata": {
  "kernelspec": {
   "display_name": "Python 3 (ipykernel)",
   "language": "python",
   "name": "python3"
  },
  "language_info": {
   "codemirror_mode": {
    "name": "ipython",
    "version": 3
   },
   "file_extension": ".py",
   "mimetype": "text/x-python",
   "name": "python",
   "nbconvert_exporter": "python",
   "pygments_lexer": "ipython3",
   "version": "3.8.2"
  }
 },
 "nbformat": 4,
 "nbformat_minor": 5
}
