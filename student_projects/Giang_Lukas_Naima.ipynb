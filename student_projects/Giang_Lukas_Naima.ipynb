{
  "cells": [
    {
      "cell_type": "markdown",
      "source": [
        "Authors\n",
        "\n",
        "*   Giang VU: jangvuit@gmail.com\n",
        "*   Lukas Beiske: lukasbeiske@gmx.de\n",
        "*   Naima Islam Nodi: naimanodi@gmail.com\n",
        "\n"
      ],
      "metadata": {
        "id": "Zzc0iIR1_yvZ"
      },
      "id": "Zzc0iIR1_yvZ"
    },
    {
      "cell_type": "markdown",
      "source": [
        "# Analysis of Sentence and Word Length Variation Across Spoken and Written Genres"
      ],
      "metadata": {
        "id": "6wOzeqN-b9Gm"
      },
      "id": "6wOzeqN-b9Gm"
    },
    {
      "cell_type": "markdown",
      "source": [
        "This project aims to explore the differences in sentence and word length between spoken and written language, focusing on genres such as interviews and conversations (spoken) and academic and fiction texts (written). The goal is to analyze how these lengths vary and whether excluding stop words, which do not contribute directly to a sentence’s semantic meaning, impacts this variation. Two hypotheses guide the analysis: first, that spoken language tends to have shorter sentence and word lengths, and second, that the variation in these lengths may decrease once stop words are excluded.\n",
        "\n",
        "A subset of the GUM corpus will be analyzed, with interview and conversation representing spoken language, and academic and fiction representing written language. The removal of stop words does result in some information loss, however, the extent of this loss depends on the composition of the stop word list. For example, in (1), the meaning of the sentence is negated after the removal of stop words, as seen in (2).\n",
        "\n",
        "(1) This is not a green apple.\n",
        "\n",
        "(2) green apple\n",
        "\n",
        "Nevertheless, the removal of stop words is a widely used technique in NLP tasks, especially in information retrieval, as it helps focus on the key elements of a sentence's meaning. This also means that, in accordance with Zipf's law, the most frequent words in the corpus will be removed during this part of the analysis.\n",
        "\n",
        "In order to accomplish the analysis the following code loads the data and removes punctuation as a first preprocessing process. After that a function is responsible for calculating the average word and sentence lengtes. After that  the data frame is filtered out of stop words and the function is applied to the new data frame.\n"
      ],
      "metadata": {
        "id": "Uw5_YHk-cJN6"
      },
      "id": "Uw5_YHk-cJN6"
    },
    {
      "cell_type": "code",
      "execution_count": null,
      "id": "3bc5a234",
      "metadata": {
        "id": "3bc5a234"
      },
      "outputs": [],
      "source": [
        "#Import necesaary libraries\n",
        "import pathlib"
      ]
    },
    {
      "cell_type": "code",
      "execution_count": null,
      "id": "235fef6b",
      "metadata": {
        "id": "235fef6b"
      },
      "outputs": [],
      "source": [
        "import numpy as np\n",
        "import pandas as pd"
      ]
    },
    {
      "cell_type": "markdown",
      "id": "e0b86b46",
      "metadata": {
        "id": "e0b86b46"
      },
      "source": [
        "# Parsing data"
      ]
    },
    {
      "cell_type": "markdown",
      "source": [
        "All the three files have been combined in the following part for enriching the dataset for our consideration."
      ],
      "metadata": {
        "id": "HaumB0vfe0Nv"
      },
      "id": "HaumB0vfe0Nv"
    },
    {
      "cell_type": "code",
      "execution_count": null,
      "id": "39996be6",
      "metadata": {
        "id": "39996be6"
      },
      "outputs": [],
      "source": [
        "#Variable lists for storing data\n",
        "count_d = 0\n",
        "genres_pd = []\n",
        "word = []\n",
        "lemma = []\n",
        "upos = []\n",
        "xpos = []\n",
        "morph = []\n",
        "count = []\n",
        "idx = []\n",
        "document_check = {}\n",
        "#Read the file\n",
        "with open(pathlib.Path('UD_English-GUM', f'en_gum-ud-all.conllu'), encoding=\"utf8\") as f:\n",
        "        lines = f.readlines()\n",
        "        for line in lines:\n",
        "            line = line.strip()\n",
        "            #Check for genres\n",
        "            if 'meta::genre' in line:\n",
        "                genre = line.split(' ')[-1]\n",
        "                if genre not in document_check.keys():\n",
        "                    document_check[genre] = [1]\n",
        "                else:\n",
        "                    last_value = document_check[genre][-1] + 1\n",
        "                    document_check[genre].append(last_value)\n",
        "            if not line.startswith('#'): #Splitting the lines\n",
        "                line = line.split('\\t')\n",
        "                if len(line) > 1 and '-' not in line[0]:\n",
        "                    try:\n",
        "                        count.append(int(line[0]))\n",
        "                    except:\n",
        "                        print(\"\")\n",
        "                    #Extract information contianed in the corpus\n",
        "                    genres_pd.append(genre)\n",
        "                    word.append(line[1])\n",
        "                    lemma.append(line[2])\n",
        "                    upos.append(line[3])\n",
        "                    xpos.append(line[4])\n",
        "                    morph.append(line[5])\n",
        "                    idx.append(document_check[genre][-1])"
      ]
    },
    {
      "cell_type": "markdown",
      "source": [
        "##DataFrame"
      ],
      "metadata": {
        "id": "3AQA03RCdD_X"
      },
      "id": "3AQA03RCdD_X"
    },
    {
      "cell_type": "markdown",
      "source": [
        "Considering the genres, the data has been analysed. For each genre get the related information.\n",
        "\n",
        "\n",
        "*   Order of words\n",
        "*   Words\n",
        "*   Lemma\n",
        "*   upos\n",
        "*   xpos\n",
        "\n",
        "\n",
        "\n"
      ],
      "metadata": {
        "id": "ITOCe___dtu6"
      },
      "id": "ITOCe___dtu6"
    },
    {
      "cell_type": "code",
      "execution_count": null,
      "id": "1936c064",
      "metadata": {
        "id": "1936c064"
      },
      "outputs": [],
      "source": [
        "df = pd.DataFrame(zip(count,word,lemma,upos,xpos,genres_pd,idx))"
      ]
    },
    {
      "cell_type": "code",
      "execution_count": null,
      "id": "6fb6c28f",
      "metadata": {
        "id": "6fb6c28f"
      },
      "outputs": [],
      "source": [
        "df = df.rename(columns={0: \"count\", 1: \"word\", 2:\"lemma\",3:\"upos\",4:\"xpos\",5:\"genre\",6:\"idx\"})"
      ]
    },
    {
      "cell_type": "code",
      "execution_count": null,
      "id": "05c0732e",
      "metadata": {
        "id": "05c0732e"
      },
      "outputs": [],
      "source": [
        "df.to_csv('gum_all.csv')"
      ]
    },
    {
      "cell_type": "code",
      "execution_count": null,
      "id": "152088dc",
      "metadata": {
        "id": "152088dc",
        "outputId": "55cd480e-8dd6-4cda-af74-403cbb92db28"
      },
      "outputs": [
        {
          "data": {
            "text/html": [
              "<div>\n",
              "<style scoped>\n",
              "    .dataframe tbody tr th:only-of-type {\n",
              "        vertical-align: middle;\n",
              "    }\n",
              "\n",
              "    .dataframe tbody tr th {\n",
              "        vertical-align: top;\n",
              "    }\n",
              "\n",
              "    .dataframe thead th {\n",
              "        text-align: right;\n",
              "    }\n",
              "</style>\n",
              "<table border=\"1\" class=\"dataframe\">\n",
              "  <thead>\n",
              "    <tr style=\"text-align: right;\">\n",
              "      <th></th>\n",
              "      <th>count</th>\n",
              "      <th>word</th>\n",
              "      <th>lemma</th>\n",
              "      <th>upos</th>\n",
              "      <th>xpos</th>\n",
              "      <th>genre</th>\n",
              "      <th>idx</th>\n",
              "    </tr>\n",
              "  </thead>\n",
              "  <tbody>\n",
              "    <tr>\n",
              "      <th>0</th>\n",
              "      <td>1</td>\n",
              "      <td>Introduction</td>\n",
              "      <td>introduction</td>\n",
              "      <td>NOUN</td>\n",
              "      <td>NN</td>\n",
              "      <td>academic</td>\n",
              "      <td>1</td>\n",
              "    </tr>\n",
              "    <tr>\n",
              "      <th>1</th>\n",
              "      <td>1</td>\n",
              "      <td>Research</td>\n",
              "      <td>research</td>\n",
              "      <td>NOUN</td>\n",
              "      <td>NN</td>\n",
              "      <td>academic</td>\n",
              "      <td>1</td>\n",
              "    </tr>\n",
              "    <tr>\n",
              "      <th>2</th>\n",
              "      <td>2</td>\n",
              "      <td>on</td>\n",
              "      <td>on</td>\n",
              "      <td>ADP</td>\n",
              "      <td>IN</td>\n",
              "      <td>academic</td>\n",
              "      <td>1</td>\n",
              "    </tr>\n",
              "    <tr>\n",
              "      <th>3</th>\n",
              "      <td>3</td>\n",
              "      <td>adult</td>\n",
              "      <td>adult</td>\n",
              "      <td>NOUN</td>\n",
              "      <td>NN</td>\n",
              "      <td>academic</td>\n",
              "      <td>1</td>\n",
              "    </tr>\n",
              "    <tr>\n",
              "      <th>4</th>\n",
              "      <td>4</td>\n",
              "      <td>-</td>\n",
              "      <td>-</td>\n",
              "      <td>PUNCT</td>\n",
              "      <td>HYPH</td>\n",
              "      <td>academic</td>\n",
              "      <td>1</td>\n",
              "    </tr>\n",
              "    <tr>\n",
              "      <th>...</th>\n",
              "      <td>...</td>\n",
              "      <td>...</td>\n",
              "      <td>...</td>\n",
              "      <td>...</td>\n",
              "      <td>...</td>\n",
              "      <td>...</td>\n",
              "      <td>...</td>\n",
              "    </tr>\n",
              "    <tr>\n",
              "      <th>211915</th>\n",
              "      <td>14</td>\n",
              "      <td>cans</td>\n",
              "      <td>can</td>\n",
              "      <td>NOUN</td>\n",
              "      <td>NNS</td>\n",
              "      <td>whow</td>\n",
              "      <td>19</td>\n",
              "    </tr>\n",
              "    <tr>\n",
              "      <th>211916</th>\n",
              "      <td>15</td>\n",
              "      <td>away</td>\n",
              "      <td>away</td>\n",
              "      <td>ADV</td>\n",
              "      <td>RB</td>\n",
              "      <td>whow</td>\n",
              "      <td>19</td>\n",
              "    </tr>\n",
              "    <tr>\n",
              "      <th>211917</th>\n",
              "      <td>16</td>\n",
              "      <td>from</td>\n",
              "      <td>from</td>\n",
              "      <td>ADP</td>\n",
              "      <td>IN</td>\n",
              "      <td>whow</td>\n",
              "      <td>19</td>\n",
              "    </tr>\n",
              "    <tr>\n",
              "      <th>211918</th>\n",
              "      <td>17</td>\n",
              "      <td>the</td>\n",
              "      <td>the</td>\n",
              "      <td>DET</td>\n",
              "      <td>DT</td>\n",
              "      <td>whow</td>\n",
              "      <td>19</td>\n",
              "    </tr>\n",
              "    <tr>\n",
              "      <th>211919</th>\n",
              "      <td>18</td>\n",
              "      <td>house</td>\n",
              "      <td>house</td>\n",
              "      <td>NOUN</td>\n",
              "      <td>NN</td>\n",
              "      <td>whow</td>\n",
              "      <td>19</td>\n",
              "    </tr>\n",
              "  </tbody>\n",
              "</table>\n",
              "<p>211920 rows × 7 columns</p>\n",
              "</div>"
            ],
            "text/plain": [
              "        count          word         lemma   upos  xpos     genre  idx\n",
              "0           1  Introduction  introduction   NOUN    NN  academic    1\n",
              "1           1      Research      research   NOUN    NN  academic    1\n",
              "2           2            on            on    ADP    IN  academic    1\n",
              "3           3         adult         adult   NOUN    NN  academic    1\n",
              "4           4             -             -  PUNCT  HYPH  academic    1\n",
              "...       ...           ...           ...    ...   ...       ...  ...\n",
              "211915     14          cans           can   NOUN   NNS      whow   19\n",
              "211916     15          away          away    ADV    RB      whow   19\n",
              "211917     16          from          from    ADP    IN      whow   19\n",
              "211918     17           the           the    DET    DT      whow   19\n",
              "211919     18         house         house   NOUN    NN      whow   19\n",
              "\n",
              "[211920 rows x 7 columns]"
            ]
          },
          "execution_count": 996,
          "metadata": {},
          "output_type": "execute_result"
        }
      ],
      "source": [
        "#Data visualization\n",
        "df"
      ]
    },
    {
      "cell_type": "markdown",
      "source": [
        "\n",
        "\n",
        "```\n",
        "# This is formatted as code\n",
        "```\n",
        "\n"
      ],
      "metadata": {
        "id": "r9NOoKQ7enoH"
      },
      "id": "r9NOoKQ7enoH"
    },
    {
      "cell_type": "code",
      "execution_count": null,
      "id": "872479a0",
      "metadata": {
        "id": "872479a0",
        "outputId": "fc5e2398-2dce-44a2-f5db-96aa2c62ade0"
      },
      "outputs": [
        {
          "name": "stderr",
          "output_type": "stream",
          "text": [
            "C:\\Users\\22313906t\\AppData\\Local\\Temp\\ipykernel_20064\\2122229547.py:4: UserWarning: Boolean Series key will be reindexed to match DataFrame index.\n",
            "  df_wo = df_wo[~mask_2]\n"
          ]
        }
      ],
      "source": [
        "mask_1 = df['upos'] == 'PUNCT'\n",
        "mask_2 = df['upos'] == 'SYM'\n",
        "df_wo = df[~mask_1]\n",
        "df_wo = df_wo[~mask_2]"
      ]
    },
    {
      "cell_type": "markdown",
      "id": "3b2f35c4",
      "metadata": {
        "id": "3b2f35c4"
      },
      "source": [
        "Removing PUNCT and SYS pos tag"
      ]
    },
    {
      "cell_type": "markdown",
      "id": "2422d5d5",
      "metadata": {
        "id": "2422d5d5"
      },
      "source": [
        "# Analyzing\n",
        "\n",
        "1. word length means how many words in the whole document\n",
        "2. sentence length means how many sentences in the whole document\n",
        "3. how many words in one sentence\n",
        "4. pos occurrences"
      ]
    },
    {
      "cell_type": "code",
      "execution_count": null,
      "id": "02dc7760",
      "metadata": {
        "id": "02dc7760"
      },
      "outputs": [],
      "source": [
        "#function for counting the number of the words, number of the sentences and counting of the words per sentences\n",
        "def analysing(df):\n",
        "    num_sen = len(df[df['count'] == 1])\n",
        "    idx_start = df[df['count'] == 1].index.to_list()\n",
        "    idx_end = [x - 1 for x in idx_start] + [len(df)-1]\n",
        "    len_sen = df.iloc[idx_end[1:]]['count'].to_list()\n",
        "    words_per_sen = sum(len_sen)/num_sen\n",
        "    num_word = len(df)\n",
        "    return num_word, num_sen, words_per_sen"
      ]
    },
    {
      "cell_type": "code",
      "execution_count": null,
      "id": "4de261ae",
      "metadata": {
        "id": "4de261ae"
      },
      "outputs": [],
      "source": [
        "def word_count(df):\n",
        "    return df['word'].apply(lambda x: len(x))"
      ]
    },
    {
      "cell_type": "markdown",
      "id": "3cf16e64",
      "metadata": {
        "id": "3cf16e64"
      },
      "source": [
        "### Written corpus"
      ]
    },
    {
      "cell_type": "code",
      "execution_count": null,
      "id": "0c6e59b7",
      "metadata": {
        "id": "0c6e59b7"
      },
      "outputs": [],
      "source": [
        "df_written = pd.concat([df[df['genre'] == 'academic'], df[df['genre'] == 'fiction']], axis=0).reset_index()"
      ]
    },
    {
      "cell_type": "code",
      "execution_count": null,
      "id": "692ced44",
      "metadata": {
        "id": "692ced44"
      },
      "outputs": [],
      "source": [
        "num_word, num_sen_written, words_per_sen = analysing(df_written)"
      ]
    },
    {
      "cell_type": "code",
      "execution_count": null,
      "id": "1bdaeeb7",
      "metadata": {
        "id": "1bdaeeb7",
        "outputId": "7298c36f-c457-4076-8b14-526906d3227f"
      },
      "outputs": [
        {
          "name": "stdout",
          "output_type": "stream",
          "text": [
            "The written corpus has 34679 words, 1702 sentences, and 20.37132784958872 words per sentences\n"
          ]
        }
      ],
      "source": [
        "print(f'The written corpus has {num_word} words, {num_sen_written} sentences, and {words_per_sen} words per sentences')"
      ]
    },
    {
      "cell_type": "markdown",
      "id": "5ebb66c9",
      "metadata": {
        "id": "5ebb66c9"
      },
      "source": [
        "Top 20 most popular words in the written corpus"
      ]
    },
    {
      "cell_type": "code",
      "execution_count": null,
      "id": "d890fc51",
      "metadata": {
        "id": "d890fc51",
        "outputId": "60744fad-e046-445f-8e9c-3520a97087b7"
      },
      "outputs": [
        {
          "data": {
            "text/plain": [
              "word\n",
              ",       1799\n",
              "the     1658\n",
              ".       1471\n",
              "of       972\n",
              "and      897\n",
              "to       654\n",
              "a        576\n",
              "in       531\n",
              "I        370\n",
              "that     342\n",
              "was      236\n",
              "-        231\n",
              "is       217\n",
              "it       213\n",
              "“        199\n",
              "on       196\n",
              "”        192\n",
              "(        181\n",
              ")        180\n",
              "with     179\n",
              "Name: count, dtype: int64"
            ]
          },
          "execution_count": 1052,
          "metadata": {},
          "output_type": "execute_result"
        }
      ],
      "source": [
        "df_written.groupby(['word']).count().sort_values(['index'],ascending=False)['count'][:20]"
      ]
    },
    {
      "cell_type": "markdown",
      "id": "4a5eff48",
      "metadata": {
        "id": "4a5eff48"
      },
      "source": [
        "### Spoken corpus"
      ]
    },
    {
      "cell_type": "code",
      "execution_count": null,
      "id": "9e2e575f",
      "metadata": {
        "id": "9e2e575f"
      },
      "outputs": [],
      "source": [
        "df_spoken = pd.concat([df[df['genre'] == 'conversation'], df[df['genre'] == 'interview']], axis=0).reset_index()"
      ]
    },
    {
      "cell_type": "code",
      "execution_count": null,
      "id": "2da6f572",
      "metadata": {
        "id": "2da6f572"
      },
      "outputs": [],
      "source": [
        "num_word, num_sen_spoken, words_per_sen = analysing(df_spoken)"
      ]
    },
    {
      "cell_type": "code",
      "execution_count": null,
      "id": "07bff10f",
      "metadata": {
        "id": "07bff10f",
        "outputId": "1f11e5ff-3662-4e71-c783-08759d4557ca"
      },
      "outputs": [
        {
          "name": "stdout",
          "output_type": "stream",
          "text": [
            "The spoken  corpus has 34587 words, 2966 sentences, and 11.669588671611598 words per sentences\n"
          ]
        }
      ],
      "source": [
        "print(f'The spoken  corpus has {num_word} words, {num_sen_spoken} sentences, and {words_per_sen} words per sentences')"
      ]
    },
    {
      "cell_type": "markdown",
      "id": "d0f94b6d",
      "metadata": {
        "id": "d0f94b6d"
      },
      "source": [
        "Top 20 most popular words in the spoken corpus"
      ]
    },
    {
      "cell_type": "code",
      "execution_count": null,
      "id": "d9d9761d",
      "metadata": {
        "id": "d9d9761d",
        "outputId": "530d6b53-f92f-4a71-a345-c296cee11a33"
      },
      "outputs": [
        {
          "data": {
            "text/plain": [
              "word\n",
              ".       2240\n",
              ",       2006\n",
              "the     1158\n",
              "I        714\n",
              "and      633\n",
              "to       632\n",
              "a        578\n",
              "of       563\n",
              "you      520\n",
              "it       463\n",
              "that     449\n",
              "?        440\n",
              "in       437\n",
              "'s       382\n",
              "is       320\n",
              "was      247\n",
              "do       214\n",
              "n't      213\n",
              "have     207\n",
              "—        204\n",
              "Name: count, dtype: int64"
            ]
          },
          "execution_count": 1054,
          "metadata": {},
          "output_type": "execute_result"
        }
      ],
      "source": [
        "df_spoken.groupby(['word']).count().sort_values(['index'],ascending=False)['count'][:20]"
      ]
    },
    {
      "cell_type": "markdown",
      "source": [
        "From the top 20 written and spoken data, it is clear that the frequency of the stopwords and punctuations are higher and occupies more data space. However, as the stopwords and punctuations contains very little semantic meaning and isn't really helpful for information retrieval, we decided to check how it varies considering the written and spoken words of the considered dataset."
      ],
      "metadata": {
        "id": "0xk710wRfhAh"
      },
      "id": "0xk710wRfhAh"
    },
    {
      "cell_type": "markdown",
      "id": "33743d03",
      "metadata": {
        "id": "33743d03"
      },
      "source": [
        "## Punctuation Elimination"
      ]
    },
    {
      "cell_type": "markdown",
      "id": "babea084",
      "metadata": {
        "id": "babea084"
      },
      "source": [
        "### Written"
      ]
    },
    {
      "cell_type": "code",
      "execution_count": null,
      "id": "84263043",
      "metadata": {
        "id": "84263043"
      },
      "outputs": [],
      "source": [
        "df_written_wo = pd.concat([df_wo[df_wo['genre'] == 'academic'], df_wo[df_wo['genre'] == 'fiction']], axis=0).reset_index()"
      ]
    },
    {
      "cell_type": "markdown",
      "source": [
        "Here, the punctual from the wriiten data (in our case it's \"academic\" and \"ficrtion\") are removed."
      ],
      "metadata": {
        "id": "OVD0jrDMgfzP"
      },
      "id": "OVD0jrDMgfzP"
    },
    {
      "cell_type": "code",
      "execution_count": null,
      "id": "dbc8bfc1",
      "metadata": {
        "id": "dbc8bfc1"
      },
      "outputs": [],
      "source": [
        "num_word_pun = len(df_written_wo)\n",
        "words_per_sen_pun = num_word_pun/num_sen_written"
      ]
    },
    {
      "cell_type": "code",
      "execution_count": null,
      "id": "4d5e9af9",
      "metadata": {
        "id": "4d5e9af9"
      },
      "outputs": [],
      "source": [
        "df_written_wo['word_len'] = word_count(df_written_wo)"
      ]
    },
    {
      "cell_type": "code",
      "execution_count": null,
      "id": "b4c24040",
      "metadata": {
        "id": "b4c24040",
        "outputId": "1d3fec7c-8adb-4b25-b505-e64bba0ad01e"
      },
      "outputs": [
        {
          "data": {
            "text/html": [
              "<div>\n",
              "<style scoped>\n",
              "    .dataframe tbody tr th:only-of-type {\n",
              "        vertical-align: middle;\n",
              "    }\n",
              "\n",
              "    .dataframe tbody tr th {\n",
              "        vertical-align: top;\n",
              "    }\n",
              "\n",
              "    .dataframe thead th {\n",
              "        text-align: right;\n",
              "    }\n",
              "</style>\n",
              "<table border=\"1\" class=\"dataframe\">\n",
              "  <thead>\n",
              "    <tr style=\"text-align: right;\">\n",
              "      <th></th>\n",
              "      <th>index</th>\n",
              "      <th>count</th>\n",
              "      <th>word</th>\n",
              "      <th>lemma</th>\n",
              "      <th>upos</th>\n",
              "      <th>xpos</th>\n",
              "      <th>genre</th>\n",
              "      <th>idx</th>\n",
              "      <th>word_len</th>\n",
              "    </tr>\n",
              "  </thead>\n",
              "  <tbody>\n",
              "    <tr>\n",
              "      <th>0</th>\n",
              "      <td>0</td>\n",
              "      <td>1</td>\n",
              "      <td>Introduction</td>\n",
              "      <td>introduction</td>\n",
              "      <td>NOUN</td>\n",
              "      <td>NN</td>\n",
              "      <td>academic</td>\n",
              "      <td>1</td>\n",
              "      <td>12</td>\n",
              "    </tr>\n",
              "    <tr>\n",
              "      <th>1</th>\n",
              "      <td>1</td>\n",
              "      <td>1</td>\n",
              "      <td>Research</td>\n",
              "      <td>research</td>\n",
              "      <td>NOUN</td>\n",
              "      <td>NN</td>\n",
              "      <td>academic</td>\n",
              "      <td>1</td>\n",
              "      <td>8</td>\n",
              "    </tr>\n",
              "    <tr>\n",
              "      <th>2</th>\n",
              "      <td>2</td>\n",
              "      <td>2</td>\n",
              "      <td>on</td>\n",
              "      <td>on</td>\n",
              "      <td>ADP</td>\n",
              "      <td>IN</td>\n",
              "      <td>academic</td>\n",
              "      <td>1</td>\n",
              "      <td>2</td>\n",
              "    </tr>\n",
              "    <tr>\n",
              "      <th>3</th>\n",
              "      <td>3</td>\n",
              "      <td>3</td>\n",
              "      <td>adult</td>\n",
              "      <td>adult</td>\n",
              "      <td>NOUN</td>\n",
              "      <td>NN</td>\n",
              "      <td>academic</td>\n",
              "      <td>1</td>\n",
              "      <td>5</td>\n",
              "    </tr>\n",
              "    <tr>\n",
              "      <th>4</th>\n",
              "      <td>5</td>\n",
              "      <td>5</td>\n",
              "      <td>learned</td>\n",
              "      <td>learn</td>\n",
              "      <td>VERB</td>\n",
              "      <td>VBN</td>\n",
              "      <td>academic</td>\n",
              "      <td>1</td>\n",
              "      <td>7</td>\n",
              "    </tr>\n",
              "    <tr>\n",
              "      <th>...</th>\n",
              "      <td>...</td>\n",
              "      <td>...</td>\n",
              "      <td>...</td>\n",
              "      <td>...</td>\n",
              "      <td>...</td>\n",
              "      <td>...</td>\n",
              "      <td>...</td>\n",
              "      <td>...</td>\n",
              "      <td>...</td>\n",
              "    </tr>\n",
              "    <tr>\n",
              "      <th>29433</th>\n",
              "      <td>197658</td>\n",
              "      <td>11</td>\n",
              "      <td>teeth</td>\n",
              "      <td>tooth</td>\n",
              "      <td>NOUN</td>\n",
              "      <td>NNS</td>\n",
              "      <td>fiction</td>\n",
              "      <td>19</td>\n",
              "      <td>5</td>\n",
              "    </tr>\n",
              "    <tr>\n",
              "      <th>29434</th>\n",
              "      <td>197659</td>\n",
              "      <td>12</td>\n",
              "      <td>on</td>\n",
              "      <td>on</td>\n",
              "      <td>ADP</td>\n",
              "      <td>IN</td>\n",
              "      <td>fiction</td>\n",
              "      <td>19</td>\n",
              "      <td>2</td>\n",
              "    </tr>\n",
              "    <tr>\n",
              "      <th>29435</th>\n",
              "      <td>197660</td>\n",
              "      <td>13</td>\n",
              "      <td>Steven</td>\n",
              "      <td>Steven</td>\n",
              "      <td>PROPN</td>\n",
              "      <td>NNP</td>\n",
              "      <td>fiction</td>\n",
              "      <td>19</td>\n",
              "      <td>6</td>\n",
              "    </tr>\n",
              "    <tr>\n",
              "      <th>29436</th>\n",
              "      <td>197661</td>\n",
              "      <td>14</td>\n",
              "      <td>’s</td>\n",
              "      <td>'s</td>\n",
              "      <td>PART</td>\n",
              "      <td>POS</td>\n",
              "      <td>fiction</td>\n",
              "      <td>19</td>\n",
              "      <td>2</td>\n",
              "    </tr>\n",
              "    <tr>\n",
              "      <th>29437</th>\n",
              "      <td>197662</td>\n",
              "      <td>15</td>\n",
              "      <td>shelf</td>\n",
              "      <td>shelf</td>\n",
              "      <td>NOUN</td>\n",
              "      <td>NN</td>\n",
              "      <td>fiction</td>\n",
              "      <td>19</td>\n",
              "      <td>5</td>\n",
              "    </tr>\n",
              "  </tbody>\n",
              "</table>\n",
              "<p>29438 rows × 9 columns</p>\n",
              "</div>"
            ],
            "text/plain": [
              "        index  count          word         lemma   upos xpos     genre  idx  \\\n",
              "0           0      1  Introduction  introduction   NOUN   NN  academic    1   \n",
              "1           1      1      Research      research   NOUN   NN  academic    1   \n",
              "2           2      2            on            on    ADP   IN  academic    1   \n",
              "3           3      3         adult         adult   NOUN   NN  academic    1   \n",
              "4           5      5       learned         learn   VERB  VBN  academic    1   \n",
              "...       ...    ...           ...           ...    ...  ...       ...  ...   \n",
              "29433  197658     11         teeth         tooth   NOUN  NNS   fiction   19   \n",
              "29434  197659     12            on            on    ADP   IN   fiction   19   \n",
              "29435  197660     13        Steven        Steven  PROPN  NNP   fiction   19   \n",
              "29436  197661     14            ’s            's   PART  POS   fiction   19   \n",
              "29437  197662     15         shelf         shelf   NOUN   NN   fiction   19   \n",
              "\n",
              "       word_len  \n",
              "0            12  \n",
              "1             8  \n",
              "2             2  \n",
              "3             5  \n",
              "4             7  \n",
              "...         ...  \n",
              "29433         5  \n",
              "29434         2  \n",
              "29435         6  \n",
              "29436         2  \n",
              "29437         5  \n",
              "\n",
              "[29438 rows x 9 columns]"
            ]
          },
          "execution_count": 1010,
          "metadata": {},
          "output_type": "execute_result"
        }
      ],
      "source": [
        "df_written_wo"
      ]
    },
    {
      "cell_type": "code",
      "execution_count": null,
      "id": "8356fe8e",
      "metadata": {
        "id": "8356fe8e"
      },
      "outputs": [],
      "source": [
        "word_len_pun = sum(df_written_wo['word_len'].to_list())/num_word_pun"
      ]
    },
    {
      "cell_type": "code",
      "execution_count": null,
      "id": "490d6cfc",
      "metadata": {
        "id": "490d6cfc",
        "outputId": "d14e16f0-1994-4375-b097-1d6ccd81d8b6"
      },
      "outputs": [
        {
          "name": "stdout",
          "output_type": "stream",
          "text": [
            "The written wo PUNCT corpus has 29438 words, 1702 sentences, 17.3 words per sentences, and 4.7 characters per word\n"
          ]
        }
      ],
      "source": [
        "print(f'The written wo PUNCT corpus has {num_word_pun} words, {num_sen_written} sentences, {round(words_per_sen_pun,1)} words per sentences, and {round(word_len_pun,1)} characters per word')"
      ]
    },
    {
      "cell_type": "markdown",
      "id": "48491808",
      "metadata": {
        "id": "48491808"
      },
      "source": [
        "### Spoken"
      ]
    },
    {
      "cell_type": "markdown",
      "source": [
        "Here, the punctual from the spoken data (in our case it's \"conversation\" and \"interview\") are removed."
      ],
      "metadata": {
        "id": "IioiauKkgzyJ"
      },
      "id": "IioiauKkgzyJ"
    },
    {
      "cell_type": "code",
      "execution_count": null,
      "id": "eac42bc0",
      "metadata": {
        "id": "eac42bc0"
      },
      "outputs": [],
      "source": [
        "df_spoken_wo = pd.concat([df_wo[df_wo['genre'] == 'conversation'], df_wo[df_wo['genre'] == 'interview']], axis=0).reset_index()"
      ]
    },
    {
      "cell_type": "code",
      "execution_count": null,
      "id": "aaf6a633",
      "metadata": {
        "id": "aaf6a633"
      },
      "outputs": [],
      "source": [
        "num_word_sp_pun = len(df_spoken_wo)\n",
        "words_per_sen_sp_pun = num_word_sp_pun/num_sen_spoken"
      ]
    },
    {
      "cell_type": "code",
      "execution_count": null,
      "id": "ed81676b",
      "metadata": {
        "id": "ed81676b"
      },
      "outputs": [],
      "source": [
        "df_spoken_wo['word_len'] = word_count(df_spoken_wo)"
      ]
    },
    {
      "cell_type": "code",
      "execution_count": null,
      "id": "bc619989",
      "metadata": {
        "id": "bc619989",
        "outputId": "534d010f-5af4-4386-9baa-fb1665b2b191"
      },
      "outputs": [
        {
          "data": {
            "text/html": [
              "<div>\n",
              "<style scoped>\n",
              "    .dataframe tbody tr th:only-of-type {\n",
              "        vertical-align: middle;\n",
              "    }\n",
              "\n",
              "    .dataframe tbody tr th {\n",
              "        vertical-align: top;\n",
              "    }\n",
              "\n",
              "    .dataframe thead th {\n",
              "        text-align: right;\n",
              "    }\n",
              "</style>\n",
              "<table border=\"1\" class=\"dataframe\">\n",
              "  <thead>\n",
              "    <tr style=\"text-align: right;\">\n",
              "      <th></th>\n",
              "      <th>index</th>\n",
              "      <th>count</th>\n",
              "      <th>word</th>\n",
              "      <th>lemma</th>\n",
              "      <th>upos</th>\n",
              "      <th>xpos</th>\n",
              "      <th>genre</th>\n",
              "      <th>idx</th>\n",
              "      <th>word_len</th>\n",
              "    </tr>\n",
              "  </thead>\n",
              "  <tbody>\n",
              "    <tr>\n",
              "      <th>0</th>\n",
              "      <td>3482</td>\n",
              "      <td>5</td>\n",
              "      <td>What</td>\n",
              "      <td>what</td>\n",
              "      <td>PRON</td>\n",
              "      <td>WP</td>\n",
              "      <td>conversation</td>\n",
              "      <td>1</td>\n",
              "      <td>4</td>\n",
              "    </tr>\n",
              "    <tr>\n",
              "      <th>1</th>\n",
              "      <td>3483</td>\n",
              "      <td>6</td>\n",
              "      <td>'d</td>\n",
              "      <td>do</td>\n",
              "      <td>AUX</td>\n",
              "      <td>VBD</td>\n",
              "      <td>conversation</td>\n",
              "      <td>1</td>\n",
              "      <td>2</td>\n",
              "    </tr>\n",
              "    <tr>\n",
              "      <th>2</th>\n",
              "      <td>3484</td>\n",
              "      <td>1</td>\n",
              "      <td>you</td>\n",
              "      <td>you</td>\n",
              "      <td>PRON</td>\n",
              "      <td>PRP</td>\n",
              "      <td>conversation</td>\n",
              "      <td>1</td>\n",
              "      <td>3</td>\n",
              "    </tr>\n",
              "    <tr>\n",
              "      <th>3</th>\n",
              "      <td>3485</td>\n",
              "      <td>2</td>\n",
              "      <td>do</td>\n",
              "      <td>do</td>\n",
              "      <td>VERB</td>\n",
              "      <td>VB</td>\n",
              "      <td>conversation</td>\n",
              "      <td>1</td>\n",
              "      <td>2</td>\n",
              "    </tr>\n",
              "    <tr>\n",
              "      <th>4</th>\n",
              "      <td>3486</td>\n",
              "      <td>1</td>\n",
              "      <td>Sabrina</td>\n",
              "      <td>Sabrina</td>\n",
              "      <td>PROPN</td>\n",
              "      <td>NNP</td>\n",
              "      <td>conversation</td>\n",
              "      <td>1</td>\n",
              "      <td>7</td>\n",
              "    </tr>\n",
              "    <tr>\n",
              "      <th>...</th>\n",
              "      <td>...</td>\n",
              "      <td>...</td>\n",
              "      <td>...</td>\n",
              "      <td>...</td>\n",
              "      <td>...</td>\n",
              "      <td>...</td>\n",
              "      <td>...</td>\n",
              "      <td>...</td>\n",
              "      <td>...</td>\n",
              "    </tr>\n",
              "    <tr>\n",
              "      <th>29035</th>\n",
              "      <td>199316</td>\n",
              "      <td>14</td>\n",
              "      <td>highlighted</td>\n",
              "      <td>highlight</td>\n",
              "      <td>VERB</td>\n",
              "      <td>VBN</td>\n",
              "      <td>interview</td>\n",
              "      <td>19</td>\n",
              "      <td>11</td>\n",
              "    </tr>\n",
              "    <tr>\n",
              "      <th>29036</th>\n",
              "      <td>199317</td>\n",
              "      <td>15</td>\n",
              "      <td>in</td>\n",
              "      <td>in</td>\n",
              "      <td>ADP</td>\n",
              "      <td>IN</td>\n",
              "      <td>interview</td>\n",
              "      <td>19</td>\n",
              "      <td>2</td>\n",
              "    </tr>\n",
              "    <tr>\n",
              "      <th>29037</th>\n",
              "      <td>199318</td>\n",
              "      <td>16</td>\n",
              "      <td>red</td>\n",
              "      <td>red</td>\n",
              "      <td>NOUN</td>\n",
              "      <td>NN</td>\n",
              "      <td>interview</td>\n",
              "      <td>19</td>\n",
              "      <td>3</td>\n",
              "    </tr>\n",
              "    <tr>\n",
              "      <th>29038</th>\n",
              "      <td>199320</td>\n",
              "      <td>18</td>\n",
              "      <td>Image</td>\n",
              "      <td>image</td>\n",
              "      <td>NOUN</td>\n",
              "      <td>NN</td>\n",
              "      <td>interview</td>\n",
              "      <td>19</td>\n",
              "      <td>5</td>\n",
              "    </tr>\n",
              "    <tr>\n",
              "      <th>29039</th>\n",
              "      <td>199322</td>\n",
              "      <td>2</td>\n",
              "      <td>Huebi</td>\n",
              "      <td>Huebi</td>\n",
              "      <td>PROPN</td>\n",
              "      <td>NNP</td>\n",
              "      <td>interview</td>\n",
              "      <td>19</td>\n",
              "      <td>5</td>\n",
              "    </tr>\n",
              "  </tbody>\n",
              "</table>\n",
              "<p>29040 rows × 9 columns</p>\n",
              "</div>"
            ],
            "text/plain": [
              "        index  count         word      lemma   upos xpos         genre  idx  \\\n",
              "0        3482      5         What       what   PRON   WP  conversation    1   \n",
              "1        3483      6           'd         do    AUX  VBD  conversation    1   \n",
              "2        3484      1          you        you   PRON  PRP  conversation    1   \n",
              "3        3485      2           do         do   VERB   VB  conversation    1   \n",
              "4        3486      1      Sabrina    Sabrina  PROPN  NNP  conversation    1   \n",
              "...       ...    ...          ...        ...    ...  ...           ...  ...   \n",
              "29035  199316     14  highlighted  highlight   VERB  VBN     interview   19   \n",
              "29036  199317     15           in         in    ADP   IN     interview   19   \n",
              "29037  199318     16          red        red   NOUN   NN     interview   19   \n",
              "29038  199320     18        Image      image   NOUN   NN     interview   19   \n",
              "29039  199322      2        Huebi      Huebi  PROPN  NNP     interview   19   \n",
              "\n",
              "       word_len  \n",
              "0             4  \n",
              "1             2  \n",
              "2             3  \n",
              "3             2  \n",
              "4             7  \n",
              "...         ...  \n",
              "29035        11  \n",
              "29036         2  \n",
              "29037         3  \n",
              "29038         5  \n",
              "29039         5  \n",
              "\n",
              "[29040 rows x 9 columns]"
            ]
          },
          "execution_count": 1065,
          "metadata": {},
          "output_type": "execute_result"
        }
      ],
      "source": [
        "df_spoken_wo"
      ]
    },
    {
      "cell_type": "code",
      "execution_count": null,
      "id": "cc253ec0",
      "metadata": {
        "id": "cc253ec0"
      },
      "outputs": [],
      "source": [
        "word_len_sp_pun = sum(df_spoken_wo['word_len'].to_list())/num_word_sp_pun"
      ]
    },
    {
      "cell_type": "code",
      "execution_count": null,
      "id": "31247a3d",
      "metadata": {
        "id": "31247a3d",
        "outputId": "59a01d7b-2056-49e0-f93e-b41590e731dc"
      },
      "outputs": [
        {
          "name": "stdout",
          "output_type": "stream",
          "text": [
            "The spoken wo PUNCT corpus has 29040 words, 2966 sentences, 9.8 words per sentences, and 4.2 characters per word\n"
          ]
        }
      ],
      "source": [
        "print(f'The spoken wo PUNCT corpus has {num_word_sp_pun} words, {num_sen_spoken} sentences, {round(words_per_sen_sp_pun,1)} words per sentences, and {round(word_len_sp_pun,1)} characters per word')"
      ]
    },
    {
      "cell_type": "markdown",
      "id": "85a80322",
      "metadata": {
        "id": "85a80322"
      },
      "source": [
        "## Stop words"
      ]
    },
    {
      "cell_type": "markdown",
      "source": [
        "## Written"
      ],
      "metadata": {
        "id": "L9vjsSVVg-Mh"
      },
      "id": "L9vjsSVVg-Mh"
    },
    {
      "cell_type": "markdown",
      "source": [
        "Stopwords from the written corpus has been removed here."
      ],
      "metadata": {
        "id": "blmyOBkKhCp1"
      },
      "id": "blmyOBkKhCp1"
    },
    {
      "cell_type": "code",
      "execution_count": null,
      "id": "04e63c35",
      "metadata": {
        "id": "04e63c35"
      },
      "outputs": [],
      "source": [
        "#import nltk for using the default stopword remover\n",
        "from nltk.corpus import stopwords\n",
        "from nltk.tokenize import word_tokenize"
      ]
    },
    {
      "cell_type": "code",
      "execution_count": null,
      "id": "3dcbcade",
      "metadata": {
        "id": "3dcbcade"
      },
      "outputs": [],
      "source": [
        "stop_words = (stopwords.words('english'))"
      ]
    },
    {
      "cell_type": "markdown",
      "source": [
        "Manual Noise cancelation."
      ],
      "metadata": {
        "id": "xI0P887Libqo"
      },
      "id": "xI0P887Libqo"
    },
    {
      "cell_type": "code",
      "execution_count": null,
      "id": "9b06780b",
      "metadata": {
        "id": "9b06780b"
      },
      "outputs": [],
      "source": [
        "stop_words = stop_words + [\"'s\",\"'re\",\"n't\",\"'d\",\"'m\",\"'ll\",\"n’t\",\"’s\"]"
      ]
    },
    {
      "cell_type": "code",
      "execution_count": null,
      "id": "95f2d905",
      "metadata": {
        "id": "95f2d905"
      },
      "outputs": [],
      "source": [
        "def remove_by_word(x):\n",
        "    x = x.lower()\n",
        "    if x in stop_words:\n",
        "        x = 'None'\n",
        "    return x"
      ]
    },
    {
      "cell_type": "markdown",
      "id": "3d23da4a",
      "metadata": {
        "id": "3d23da4a"
      },
      "source": [
        "### Spoken"
      ]
    },
    {
      "cell_type": "markdown",
      "source": [
        "Stopwords from the spoken corpus has been removed here."
      ],
      "metadata": {
        "id": "YdktbH2vhOOL"
      },
      "id": "YdktbH2vhOOL"
    },
    {
      "cell_type": "code",
      "execution_count": null,
      "id": "10f83ee3",
      "metadata": {
        "id": "10f83ee3"
      },
      "outputs": [],
      "source": [
        "spoken_stw = df_spoken_wo['word'].apply(remove_by_word).to_list()\n",
        "df_spoken_wo['wo_stop'] = spoken_stw"
      ]
    },
    {
      "cell_type": "code",
      "execution_count": null,
      "id": "51243c6d",
      "metadata": {
        "id": "51243c6d",
        "outputId": "7e9994fe-557a-492a-9d1b-95ac01d60be3"
      },
      "outputs": [
        {
          "data": {
            "text/html": [
              "<div>\n",
              "<style scoped>\n",
              "    .dataframe tbody tr th:only-of-type {\n",
              "        vertical-align: middle;\n",
              "    }\n",
              "\n",
              "    .dataframe tbody tr th {\n",
              "        vertical-align: top;\n",
              "    }\n",
              "\n",
              "    .dataframe thead th {\n",
              "        text-align: right;\n",
              "    }\n",
              "</style>\n",
              "<table border=\"1\" class=\"dataframe\">\n",
              "  <thead>\n",
              "    <tr style=\"text-align: right;\">\n",
              "      <th></th>\n",
              "      <th>index</th>\n",
              "      <th>count</th>\n",
              "      <th>word</th>\n",
              "      <th>lemma</th>\n",
              "      <th>upos</th>\n",
              "      <th>xpos</th>\n",
              "      <th>genre</th>\n",
              "      <th>idx</th>\n",
              "      <th>word_len</th>\n",
              "      <th>wo_stop</th>\n",
              "    </tr>\n",
              "  </thead>\n",
              "  <tbody>\n",
              "    <tr>\n",
              "      <th>0</th>\n",
              "      <td>3482</td>\n",
              "      <td>5</td>\n",
              "      <td>What</td>\n",
              "      <td>what</td>\n",
              "      <td>PRON</td>\n",
              "      <td>WP</td>\n",
              "      <td>conversation</td>\n",
              "      <td>1</td>\n",
              "      <td>4</td>\n",
              "      <td>None</td>\n",
              "    </tr>\n",
              "    <tr>\n",
              "      <th>1</th>\n",
              "      <td>3483</td>\n",
              "      <td>6</td>\n",
              "      <td>'d</td>\n",
              "      <td>do</td>\n",
              "      <td>AUX</td>\n",
              "      <td>VBD</td>\n",
              "      <td>conversation</td>\n",
              "      <td>1</td>\n",
              "      <td>2</td>\n",
              "      <td>None</td>\n",
              "    </tr>\n",
              "    <tr>\n",
              "      <th>2</th>\n",
              "      <td>3484</td>\n",
              "      <td>1</td>\n",
              "      <td>you</td>\n",
              "      <td>you</td>\n",
              "      <td>PRON</td>\n",
              "      <td>PRP</td>\n",
              "      <td>conversation</td>\n",
              "      <td>1</td>\n",
              "      <td>3</td>\n",
              "      <td>None</td>\n",
              "    </tr>\n",
              "    <tr>\n",
              "      <th>3</th>\n",
              "      <td>3485</td>\n",
              "      <td>2</td>\n",
              "      <td>do</td>\n",
              "      <td>do</td>\n",
              "      <td>VERB</td>\n",
              "      <td>VB</td>\n",
              "      <td>conversation</td>\n",
              "      <td>1</td>\n",
              "      <td>2</td>\n",
              "      <td>None</td>\n",
              "    </tr>\n",
              "    <tr>\n",
              "      <th>4</th>\n",
              "      <td>3486</td>\n",
              "      <td>1</td>\n",
              "      <td>Sabrina</td>\n",
              "      <td>Sabrina</td>\n",
              "      <td>PROPN</td>\n",
              "      <td>NNP</td>\n",
              "      <td>conversation</td>\n",
              "      <td>1</td>\n",
              "      <td>7</td>\n",
              "      <td>sabrina</td>\n",
              "    </tr>\n",
              "    <tr>\n",
              "      <th>...</th>\n",
              "      <td>...</td>\n",
              "      <td>...</td>\n",
              "      <td>...</td>\n",
              "      <td>...</td>\n",
              "      <td>...</td>\n",
              "      <td>...</td>\n",
              "      <td>...</td>\n",
              "      <td>...</td>\n",
              "      <td>...</td>\n",
              "      <td>...</td>\n",
              "    </tr>\n",
              "    <tr>\n",
              "      <th>29035</th>\n",
              "      <td>199316</td>\n",
              "      <td>14</td>\n",
              "      <td>highlighted</td>\n",
              "      <td>highlight</td>\n",
              "      <td>VERB</td>\n",
              "      <td>VBN</td>\n",
              "      <td>interview</td>\n",
              "      <td>19</td>\n",
              "      <td>11</td>\n",
              "      <td>highlighted</td>\n",
              "    </tr>\n",
              "    <tr>\n",
              "      <th>29036</th>\n",
              "      <td>199317</td>\n",
              "      <td>15</td>\n",
              "      <td>in</td>\n",
              "      <td>in</td>\n",
              "      <td>ADP</td>\n",
              "      <td>IN</td>\n",
              "      <td>interview</td>\n",
              "      <td>19</td>\n",
              "      <td>2</td>\n",
              "      <td>None</td>\n",
              "    </tr>\n",
              "    <tr>\n",
              "      <th>29037</th>\n",
              "      <td>199318</td>\n",
              "      <td>16</td>\n",
              "      <td>red</td>\n",
              "      <td>red</td>\n",
              "      <td>NOUN</td>\n",
              "      <td>NN</td>\n",
              "      <td>interview</td>\n",
              "      <td>19</td>\n",
              "      <td>3</td>\n",
              "      <td>red</td>\n",
              "    </tr>\n",
              "    <tr>\n",
              "      <th>29038</th>\n",
              "      <td>199320</td>\n",
              "      <td>18</td>\n",
              "      <td>Image</td>\n",
              "      <td>image</td>\n",
              "      <td>NOUN</td>\n",
              "      <td>NN</td>\n",
              "      <td>interview</td>\n",
              "      <td>19</td>\n",
              "      <td>5</td>\n",
              "      <td>image</td>\n",
              "    </tr>\n",
              "    <tr>\n",
              "      <th>29039</th>\n",
              "      <td>199322</td>\n",
              "      <td>2</td>\n",
              "      <td>Huebi</td>\n",
              "      <td>Huebi</td>\n",
              "      <td>PROPN</td>\n",
              "      <td>NNP</td>\n",
              "      <td>interview</td>\n",
              "      <td>19</td>\n",
              "      <td>5</td>\n",
              "      <td>huebi</td>\n",
              "    </tr>\n",
              "  </tbody>\n",
              "</table>\n",
              "<p>29040 rows × 10 columns</p>\n",
              "</div>"
            ],
            "text/plain": [
              "        index  count         word      lemma   upos xpos         genre  idx  \\\n",
              "0        3482      5         What       what   PRON   WP  conversation    1   \n",
              "1        3483      6           'd         do    AUX  VBD  conversation    1   \n",
              "2        3484      1          you        you   PRON  PRP  conversation    1   \n",
              "3        3485      2           do         do   VERB   VB  conversation    1   \n",
              "4        3486      1      Sabrina    Sabrina  PROPN  NNP  conversation    1   \n",
              "...       ...    ...          ...        ...    ...  ...           ...  ...   \n",
              "29035  199316     14  highlighted  highlight   VERB  VBN     interview   19   \n",
              "29036  199317     15           in         in    ADP   IN     interview   19   \n",
              "29037  199318     16          red        red   NOUN   NN     interview   19   \n",
              "29038  199320     18        Image      image   NOUN   NN     interview   19   \n",
              "29039  199322      2        Huebi      Huebi  PROPN  NNP     interview   19   \n",
              "\n",
              "       word_len      wo_stop  \n",
              "0             4         None  \n",
              "1             2         None  \n",
              "2             3         None  \n",
              "3             2         None  \n",
              "4             7      sabrina  \n",
              "...         ...          ...  \n",
              "29035        11  highlighted  \n",
              "29036         2         None  \n",
              "29037         3          red  \n",
              "29038         5        image  \n",
              "29039         5        huebi  \n",
              "\n",
              "[29040 rows x 10 columns]"
            ]
          },
          "execution_count": 1028,
          "metadata": {},
          "output_type": "execute_result"
        }
      ],
      "source": [
        "df_spoken_wo"
      ]
    },
    {
      "cell_type": "code",
      "execution_count": null,
      "id": "ca61e6a7",
      "metadata": {
        "id": "ca61e6a7",
        "outputId": "f29198b7-d1e8-4a3e-db31-54834159d60a"
      },
      "outputs": [
        {
          "data": {
            "text/plain": [
              "4         7\n",
              "5         7\n",
              "7         4\n",
              "9         5\n",
              "12        7\n",
              "         ..\n",
              "29034     8\n",
              "29035    11\n",
              "29037     3\n",
              "29038     5\n",
              "29039     5\n",
              "Name: word_len, Length: 13855, dtype: int64"
            ]
          },
          "execution_count": 975,
          "metadata": {},
          "output_type": "execute_result"
        }
      ],
      "source": [
        "df_spoken_wo[df_spoken_wo['wo_stop']!='None']['word_len']"
      ]
    },
    {
      "cell_type": "markdown",
      "source": [
        "#Result count after removing the stopwords"
      ],
      "metadata": {
        "id": "XxhBo1jFhZZd"
      },
      "id": "XxhBo1jFhZZd"
    },
    {
      "cell_type": "markdown",
      "source": [
        "##Spoken"
      ],
      "metadata": {
        "id": "rEd3dOVQhzaK"
      },
      "id": "rEd3dOVQhzaK"
    },
    {
      "cell_type": "code",
      "execution_count": null,
      "id": "befe1a5b",
      "metadata": {
        "id": "befe1a5b"
      },
      "outputs": [],
      "source": [
        "num_word_sp_sw = len(df_spoken_wo[df_spoken_wo['wo_stop']!='None']['word'])\n",
        "words_per_sen_sp_sw = num_word_sp_sw/num_sen_spoken"
      ]
    },
    {
      "cell_type": "code",
      "execution_count": null,
      "id": "adce50b4",
      "metadata": {
        "id": "adce50b4",
        "outputId": "541210f7-6002-4025-da19-86a114efafc9"
      },
      "outputs": [
        {
          "data": {
            "text/plain": [
              "5.670299530855287"
            ]
          },
          "execution_count": 1030,
          "metadata": {},
          "output_type": "execute_result"
        }
      ],
      "source": [
        "word_len_sp_sw = sum(df_spoken_wo[df_spoken_wo['wo_stop']!='None']['word_len'].to_list())/num_word_sp_sw"
      ]
    },
    {
      "cell_type": "code",
      "execution_count": null,
      "id": "6553bd79",
      "metadata": {
        "id": "6553bd79",
        "outputId": "252bb21e-0e4a-435c-ffec-08b34b88bdd8"
      },
      "outputs": [
        {
          "name": "stdout",
          "output_type": "stream",
          "text": [
            "The spoken wo (PUNCT, stop words) corpus has 13855 words, 2966 sentences, 4.7 words per sentences, and 5.7 characters per word\n"
          ]
        }
      ],
      "source": [
        "print(f'The spoken wo (PUNCT, stop words) corpus has {num_word_sp_sw} words, {num_sen_spoken} sentences, {round(words_per_sen_sp_sw,1)} words per sentences, and {round(word_len_sp_sw,1)} characters per word')"
      ]
    },
    {
      "cell_type": "markdown",
      "id": "52be5a39",
      "metadata": {
        "id": "52be5a39"
      },
      "source": [
        "top 20 popular words in the spoken document"
      ]
    },
    {
      "cell_type": "code",
      "execution_count": null,
      "id": "3ba2e42d",
      "metadata": {
        "id": "3ba2e42d",
        "outputId": "f688ca73-e55a-4955-969e-70371c7ebeea"
      },
      "outputs": [
        {
          "data": {
            "text/plain": [
              "wo_stop\n",
              "know      168\n",
              "like      167\n",
              "yeah      137\n",
              "well      118\n",
              "one       117\n",
              "oh        116\n",
              "would      98\n",
              "think      92\n",
              "two        81\n",
              "get        73\n",
              "right      68\n",
              "go         62\n",
              "people     62\n",
              "really     60\n",
              "uh         55\n",
              "see        52\n",
              "mean       51\n",
              "na         51\n",
              "okay       50\n",
              "good       49\n",
              "Name: count, dtype: int64"
            ]
          },
          "execution_count": 982,
          "metadata": {},
          "output_type": "execute_result"
        }
      ],
      "source": [
        "df_spoken_wo[df_spoken_wo['wo_stop'] != 'None'].groupby(['wo_stop']).count().sort_values(['index'],ascending=False)['count'][:20]"
      ]
    },
    {
      "cell_type": "markdown",
      "id": "23b64429",
      "metadata": {
        "id": "23b64429"
      },
      "source": [
        "### Written"
      ]
    },
    {
      "cell_type": "code",
      "execution_count": null,
      "id": "fbc8ff09",
      "metadata": {
        "id": "fbc8ff09"
      },
      "outputs": [],
      "source": [
        "written_stw = df_written_wo['word'].apply(remove_by_word).to_list()\n",
        "df_written_wo['wo_stop'] = written_stw"
      ]
    },
    {
      "cell_type": "code",
      "execution_count": null,
      "id": "e8a973d3",
      "metadata": {
        "id": "e8a973d3",
        "outputId": "5369ea6a-6f02-4a7c-8909-dd92d5a3786b"
      },
      "outputs": [
        {
          "data": {
            "text/html": [
              "<div>\n",
              "<style scoped>\n",
              "    .dataframe tbody tr th:only-of-type {\n",
              "        vertical-align: middle;\n",
              "    }\n",
              "\n",
              "    .dataframe tbody tr th {\n",
              "        vertical-align: top;\n",
              "    }\n",
              "\n",
              "    .dataframe thead th {\n",
              "        text-align: right;\n",
              "    }\n",
              "</style>\n",
              "<table border=\"1\" class=\"dataframe\">\n",
              "  <thead>\n",
              "    <tr style=\"text-align: right;\">\n",
              "      <th></th>\n",
              "      <th>index</th>\n",
              "      <th>count</th>\n",
              "      <th>word</th>\n",
              "      <th>lemma</th>\n",
              "      <th>upos</th>\n",
              "      <th>xpos</th>\n",
              "      <th>genre</th>\n",
              "      <th>idx</th>\n",
              "      <th>word_len</th>\n",
              "      <th>wo_stop</th>\n",
              "    </tr>\n",
              "  </thead>\n",
              "  <tbody>\n",
              "    <tr>\n",
              "      <th>0</th>\n",
              "      <td>0</td>\n",
              "      <td>1</td>\n",
              "      <td>Introduction</td>\n",
              "      <td>introduction</td>\n",
              "      <td>NOUN</td>\n",
              "      <td>NN</td>\n",
              "      <td>academic</td>\n",
              "      <td>1</td>\n",
              "      <td>12</td>\n",
              "      <td>introduction</td>\n",
              "    </tr>\n",
              "    <tr>\n",
              "      <th>1</th>\n",
              "      <td>1</td>\n",
              "      <td>1</td>\n",
              "      <td>Research</td>\n",
              "      <td>research</td>\n",
              "      <td>NOUN</td>\n",
              "      <td>NN</td>\n",
              "      <td>academic</td>\n",
              "      <td>1</td>\n",
              "      <td>8</td>\n",
              "      <td>research</td>\n",
              "    </tr>\n",
              "    <tr>\n",
              "      <th>2</th>\n",
              "      <td>2</td>\n",
              "      <td>2</td>\n",
              "      <td>on</td>\n",
              "      <td>on</td>\n",
              "      <td>ADP</td>\n",
              "      <td>IN</td>\n",
              "      <td>academic</td>\n",
              "      <td>1</td>\n",
              "      <td>2</td>\n",
              "      <td>None</td>\n",
              "    </tr>\n",
              "    <tr>\n",
              "      <th>3</th>\n",
              "      <td>3</td>\n",
              "      <td>3</td>\n",
              "      <td>adult</td>\n",
              "      <td>adult</td>\n",
              "      <td>NOUN</td>\n",
              "      <td>NN</td>\n",
              "      <td>academic</td>\n",
              "      <td>1</td>\n",
              "      <td>5</td>\n",
              "      <td>adult</td>\n",
              "    </tr>\n",
              "    <tr>\n",
              "      <th>4</th>\n",
              "      <td>5</td>\n",
              "      <td>5</td>\n",
              "      <td>learned</td>\n",
              "      <td>learn</td>\n",
              "      <td>VERB</td>\n",
              "      <td>VBN</td>\n",
              "      <td>academic</td>\n",
              "      <td>1</td>\n",
              "      <td>7</td>\n",
              "      <td>learned</td>\n",
              "    </tr>\n",
              "    <tr>\n",
              "      <th>...</th>\n",
              "      <td>...</td>\n",
              "      <td>...</td>\n",
              "      <td>...</td>\n",
              "      <td>...</td>\n",
              "      <td>...</td>\n",
              "      <td>...</td>\n",
              "      <td>...</td>\n",
              "      <td>...</td>\n",
              "      <td>...</td>\n",
              "      <td>...</td>\n",
              "    </tr>\n",
              "    <tr>\n",
              "      <th>29433</th>\n",
              "      <td>197658</td>\n",
              "      <td>11</td>\n",
              "      <td>teeth</td>\n",
              "      <td>tooth</td>\n",
              "      <td>NOUN</td>\n",
              "      <td>NNS</td>\n",
              "      <td>fiction</td>\n",
              "      <td>19</td>\n",
              "      <td>5</td>\n",
              "      <td>teeth</td>\n",
              "    </tr>\n",
              "    <tr>\n",
              "      <th>29434</th>\n",
              "      <td>197659</td>\n",
              "      <td>12</td>\n",
              "      <td>on</td>\n",
              "      <td>on</td>\n",
              "      <td>ADP</td>\n",
              "      <td>IN</td>\n",
              "      <td>fiction</td>\n",
              "      <td>19</td>\n",
              "      <td>2</td>\n",
              "      <td>None</td>\n",
              "    </tr>\n",
              "    <tr>\n",
              "      <th>29435</th>\n",
              "      <td>197660</td>\n",
              "      <td>13</td>\n",
              "      <td>Steven</td>\n",
              "      <td>Steven</td>\n",
              "      <td>PROPN</td>\n",
              "      <td>NNP</td>\n",
              "      <td>fiction</td>\n",
              "      <td>19</td>\n",
              "      <td>6</td>\n",
              "      <td>steven</td>\n",
              "    </tr>\n",
              "    <tr>\n",
              "      <th>29436</th>\n",
              "      <td>197661</td>\n",
              "      <td>14</td>\n",
              "      <td>’s</td>\n",
              "      <td>'s</td>\n",
              "      <td>PART</td>\n",
              "      <td>POS</td>\n",
              "      <td>fiction</td>\n",
              "      <td>19</td>\n",
              "      <td>2</td>\n",
              "      <td>None</td>\n",
              "    </tr>\n",
              "    <tr>\n",
              "      <th>29437</th>\n",
              "      <td>197662</td>\n",
              "      <td>15</td>\n",
              "      <td>shelf</td>\n",
              "      <td>shelf</td>\n",
              "      <td>NOUN</td>\n",
              "      <td>NN</td>\n",
              "      <td>fiction</td>\n",
              "      <td>19</td>\n",
              "      <td>5</td>\n",
              "      <td>shelf</td>\n",
              "    </tr>\n",
              "  </tbody>\n",
              "</table>\n",
              "<p>29438 rows × 10 columns</p>\n",
              "</div>"
            ],
            "text/plain": [
              "        index  count          word         lemma   upos xpos     genre  idx  \\\n",
              "0           0      1  Introduction  introduction   NOUN   NN  academic    1   \n",
              "1           1      1      Research      research   NOUN   NN  academic    1   \n",
              "2           2      2            on            on    ADP   IN  academic    1   \n",
              "3           3      3         adult         adult   NOUN   NN  academic    1   \n",
              "4           5      5       learned         learn   VERB  VBN  academic    1   \n",
              "...       ...    ...           ...           ...    ...  ...       ...  ...   \n",
              "29433  197658     11         teeth         tooth   NOUN  NNS   fiction   19   \n",
              "29434  197659     12            on            on    ADP   IN   fiction   19   \n",
              "29435  197660     13        Steven        Steven  PROPN  NNP   fiction   19   \n",
              "29436  197661     14            ’s            's   PART  POS   fiction   19   \n",
              "29437  197662     15         shelf         shelf   NOUN   NN   fiction   19   \n",
              "\n",
              "       word_len       wo_stop  \n",
              "0            12  introduction  \n",
              "1             8      research  \n",
              "2             2          None  \n",
              "3             5         adult  \n",
              "4             7       learned  \n",
              "...         ...           ...  \n",
              "29433         5         teeth  \n",
              "29434         2          None  \n",
              "29435         6        steven  \n",
              "29436         2          None  \n",
              "29437         5         shelf  \n",
              "\n",
              "[29438 rows x 10 columns]"
            ]
          },
          "execution_count": 1034,
          "metadata": {},
          "output_type": "execute_result"
        }
      ],
      "source": [
        "df_written_wo"
      ]
    },
    {
      "cell_type": "code",
      "execution_count": null,
      "id": "a1653e7a",
      "metadata": {
        "id": "a1653e7a"
      },
      "outputs": [],
      "source": [
        "num_word_sw = len(df_written_wo[df_written_wo['wo_stop']!='None']['word'])\n",
        "words_per_sen_sw = num_word_sw/num_sen_written"
      ]
    },
    {
      "cell_type": "code",
      "execution_count": null,
      "id": "0ad0649d",
      "metadata": {
        "id": "0ad0649d",
        "outputId": "a5457834-d565-4a53-b9db-924351ff81d5"
      },
      "outputs": [
        {
          "data": {
            "text/plain": [
              "6.376109513689211"
            ]
          },
          "execution_count": 1037,
          "metadata": {},
          "output_type": "execute_result"
        }
      ],
      "source": [
        "word_len_sw = sum(df_written_wo[df_written_wo['wo_stop']!='None']['word_len'].to_list())/num_word_sw\n",
        "word_len_sw"
      ]
    },
    {
      "cell_type": "code",
      "execution_count": null,
      "id": "062dd432",
      "metadata": {
        "id": "062dd432",
        "outputId": "b1aa4478-dca9-465b-b5e2-7a07304f53a6"
      },
      "outputs": [
        {
          "name": "stdout",
          "output_type": "stream",
          "text": [
            "The written wo (PUNCT, stop words) corpus has 15998 words, 1702 sentences, 9.4 words per sentences, and 6.4 characters per word\n"
          ]
        }
      ],
      "source": [
        "print(f'The written wo (PUNCT, stop words) corpus has {num_word_sw} words, {num_sen_written} sentences, {round(words_per_sen_sw,1)} words per sentences, and {round(word_len_sw,1)} characters per word')"
      ]
    },
    {
      "cell_type": "markdown",
      "id": "cebf57f1",
      "metadata": {
        "id": "cebf57f1"
      },
      "source": [
        "top 20 popular words in the written document"
      ]
    },
    {
      "cell_type": "code",
      "execution_count": null,
      "id": "8ceddf53",
      "metadata": {
        "id": "8ceddf53",
        "outputId": "762bf9ae-9494-485d-bad7-358d068eb061"
      },
      "outputs": [
        {
          "data": {
            "text/plain": [
              "wo_stop\n",
              "like        74\n",
              "one         71\n",
              "said        64\n",
              "research    52\n",
              "study       51\n",
              "could       49\n",
              "two         45\n",
              "time        43\n",
              "would       42\n",
              "first       41\n",
              "studies     40\n",
              "see         38\n",
              "back        37\n",
              "even        37\n",
              "also        34\n",
              "used        32\n",
              "1           32\n",
              "language    31\n",
              "sea         31\n",
              "system      29\n",
              "Name: count, dtype: int64"
            ]
          },
          "execution_count": 1039,
          "metadata": {},
          "output_type": "execute_result"
        }
      ],
      "source": [
        "df_written_wo[df_written_wo['wo_stop'] != 'None'].groupby(['wo_stop']).count().sort_values(['index'],ascending=False)['count'][:20]"
      ]
    },
    {
      "cell_type": "markdown",
      "id": "ff6e1de2",
      "metadata": {
        "id": "ff6e1de2"
      },
      "source": [
        "## Result\n",
        "1. The written wo PUNCT corpus has 29438 words, 1702 sentences, 17.3 words per sentences, and 4.7 characters per word.\n",
        "2. The spoken wo PUNCT corpus has 29040 words, 2966 sentences, 9.8 words per sentences, and 4.2 characters per word.\n",
        "3. The written wo (PUNCT, stop words) corpus has 15998 words, 1702 sentences, 9.4 words per sentences, and 6.4 characters per word\n",
        "4. The spoken wo (PUNCT, stop words) corpus has 13855 words, 2966 sentences, 4.7 words per sentences, and 5.7 characters per word"
      ]
    },
    {
      "cell_type": "code",
      "execution_count": null,
      "id": "a1c53742",
      "metadata": {
        "id": "a1c53742",
        "outputId": "607b09f2-9b69-4e75-9a7c-18efecf610f7"
      },
      "outputs": [
        {
          "data": {
            "text/plain": [
              "9.790964261631828"
            ]
          },
          "execution_count": 1061,
          "metadata": {},
          "output_type": "execute_result"
        }
      ],
      "source": [
        "words_per_sen_sp_pun"
      ]
    },
    {
      "cell_type": "code",
      "execution_count": null,
      "id": "067fe77f",
      "metadata": {
        "id": "067fe77f"
      },
      "outputs": [],
      "source": [
        "written_pun = [words_per_sen_pun,word_len_pun]\n",
        "spoken_pun = [words_per_sen_sp_pun,word_len_sp_pun]\n",
        "written_sw = [words_per_sen_sw,word_len_sw]\n",
        "spoken_sw = [words_per_sen_sp_sw,word_len_sp_sw]"
      ]
    },
    {
      "cell_type": "code",
      "execution_count": null,
      "id": "da02d36e",
      "metadata": {
        "id": "da02d36e"
      },
      "outputs": [],
      "source": [
        "from matplotlib import pyplot as plt"
      ]
    },
    {
      "cell_type": "code",
      "execution_count": null,
      "id": "c5378b8c",
      "metadata": {
        "id": "c5378b8c",
        "outputId": "f34bdd33-43d8-45f0-f84b-709764fd401d"
      },
      "outputs": [
        {
          "data": {
            "image/png": "[encoded data removed]",
            "text/plain": [
              "<Figure size 1200x800 with 1 Axes>"
            ]
          },
          "metadata": {},
          "output_type": "display_data"
        }
      ],
      "source": [
        "barWidth = 0.25\n",
        "fig = plt.subplots(figsize =(12, 8))\n",
        "\n",
        "# set height of bar\n",
        "w = [words_per_sen_pun,words_per_sen_sp_pun]\n",
        "\n",
        "wo = [words_per_sen_sw,words_per_sen_sp_sw]\n",
        "\n",
        "# Set position of bar on X axis\n",
        "br1 = np.arange(len(written_pun))\n",
        "br2 = [x + barWidth for x in br1]\n",
        "\n",
        "# Make the plot\n",
        "plt.bar(br1, w, color ='r', width = barWidth,\n",
        "        edgecolor ='grey', label ='with stopword')\n",
        "plt.bar(br2, wo, color ='g', width = barWidth,\n",
        "        edgecolor ='grey', label ='wo stopword')\n",
        "\n",
        "# Adding Xticks\n",
        "plt.xlabel('Sentence length comparision', fontweight ='bold', fontsize = 15)\n",
        "plt.ylabel('Sentence length', fontweight ='bold', fontsize = 15)\n",
        "plt.xticks([r + barWidth/2 for r in range(len(written_pun))],\n",
        "        ['written', 'spoken'])\n",
        "\n",
        "plt.legend()\n",
        "plt.show()"
      ]
    },
    {
      "cell_type": "code",
      "execution_count": null,
      "id": "3d1f5678",
      "metadata": {
        "id": "3d1f5678",
        "outputId": "5c9986a6-580a-4e22-be6a-3c52f3487c46"
      },
      "outputs": [
        {
          "data": {
            "image/png": "[encoded data removed]",
            "text/plain": [
              "<Figure size 1200x800 with 1 Axes>"
            ]
          },
          "metadata": {},
          "output_type": "display_data"
        }
      ],
      "source": [
        "barWidth = 0.25\n",
        "fig = plt.subplots(figsize =(12, 8))\n",
        "\n",
        "# set height of bar\n",
        "w = [word_len_pun,word_len_sp_pun]\n",
        "\n",
        "wo = [word_len_sw,word_len_sp_sw]\n",
        "\n",
        "# Set position of bar on X axis\n",
        "br1 = np.arange(len(written_pun))\n",
        "br2 = [x + barWidth for x in br1]\n",
        "\n",
        "# Make the plot\n",
        "plt.bar(br1, w, color ='r', width = barWidth,\n",
        "        edgecolor ='grey', label ='with stopword')\n",
        "plt.bar(br2, wo, color ='g', width = barWidth,\n",
        "        edgecolor ='grey', label ='wo stopword')\n",
        "\n",
        "# Adding Xticks\n",
        "plt.xlabel('Word length comparision', fontweight ='bold', fontsize = 15)\n",
        "plt.ylabel('Word length', fontweight ='bold', fontsize = 15)\n",
        "plt.xticks([r + barWidth/2 for r in range(len(written_pun))],\n",
        "        ['written', 'spoken'])\n",
        "\n",
        "plt.legend()\n",
        "plt.show()"
      ]
    },
    {
      "cell_type": "markdown",
      "source": [
        "## Discussion"
      ],
      "metadata": {
        "id": "KGNikoVXrpJS"
      },
      "id": "KGNikoVXrpJS"
    },
    {
      "cell_type": "markdown",
      "source": [
        "As a reminder, our hypotheses are repeated in (3) and (4) below. The results show that, including stop words, the average sentence length is 17.3 words for written language and 9.8 words for spoken language, resulting in a difference of 7.5 words. The average word length is 4.7 characters for written and 4.1 characters for spoken language, indicating a difference of 0.6 characters.\n",
        "\n",
        "(3) Hypothesis 1: Spoken language tends to have shorter sentence and word lengths compared to written language.\n",
        "\n",
        "(4) Hypothesis 2: The variation in sentence and word lengths may decrease once stop words are excluded from the analysis.\n",
        "\n",
        "Based on these results, we can confirm that our first hypothesis is true.\n",
        "\n",
        "The average sentence length after the exclusion of stop words is 9.4 words for written language and 4.6 words for spoken language, resulting in a reduced difference of 4.8 words. Regarding word length, the average is 6.4 characters for written language and 5.7 characters for spoken language, indicating a difference of 0.7 characters.\n",
        "\n",
        "Thus, our second hypothesis is only confirmed for sentence length, where the variation decreases by 4.8 words after the exclusion of stop words. The variation in word length, however, only decreases by 0.1 characters, which is minimal.\n",
        "\n",
        "The results of the analysis are not surprising for several reasons. First, the inherent nature of spoken versus written language plays a significant role. Spoken language tends to be more informal, spontaneous, and conversational, which naturally leads to shorter sentences and simpler words. In spoken interactions, speakers rely heavily on context, body language, and intonation to convey meaning, reducing the need for detailed or complex language. On the other hand, written language, especially in academic or fictional genres, is more structured and formal, with longer sentences and more complex vocabulary used to convey precise meanings.\n",
        "\n",
        "Second, the function of stop words in both spoken and written language is primarily grammatical, and they do not carry significant semantic weight. Common stop words like \"the,\" \"and,\" or \"is\" are frequently used to build grammatical structure but don’t add much to the core meaning of a sentence. When these stop words are removed, what remains are the more meaningful words. In spoken language, where there are more fillers and less formal structure, the removal of stop words has a more pronounced effect on reducing sentence length. This explains why the difference in sentence length decreases more significantly in spoken genres than in written ones once stop words are excluded.\n",
        "\n",
        "Interestingly, while the sentence length variation decreases substantially after removing stop words, the variation in word length shows only a minimal reduction. The average word length in written language is initially longer than in spoken language, but after stop words are excluded, the difference decreases only slightly, by 0.1 characters. This minimal difference suggests that the core words in both spoken and written language tend to be of similar lengths once the grammatical fillers are removed. This result aligns with the expectations based on Zipf’s Law, which indicates that high-frequency words (many of which are stop words) are typically short, and once removed, the remaining words—those carrying semantic content—are of comparable length in both spoken and written forms.\n",
        "\n",
        "In summary, the results align with linguistic expectations. Spoken language, with its informal and spontaneous nature, tends to have shorter sentences, while the more structured and elaborate nature of written language leads to longer sentences. The exclusion of stop words narrows this gap, especially for sentences, but the difference in word length remains small, as the key content words are of similar length across both genres."
      ],
      "metadata": {
        "id": "l2IFHUm9rsH0"
      },
      "id": "l2IFHUm9rsH0"
    },
    {
      "cell_type": "code",
      "execution_count": null,
      "id": "6a1492db",
      "metadata": {
        "id": "6a1492db"
      },
      "outputs": [],
      "source": []
    },
    {
      "cell_type": "code",
      "execution_count": null,
      "id": "47f86c1d",
      "metadata": {
        "id": "47f86c1d"
      },
      "outputs": [],
      "source": []
    }
  ],
  "metadata": {
    "kernelspec": {
      "display_name": "Python 3 (ipykernel)",
      "language": "python",
      "name": "python3"
    },
    "language_info": {
      "codemirror_mode": {
        "name": "ipython",
        "version": 3
      },
      "file_extension": ".py",
      "mimetype": "text/x-python",
      "name": "python",
      "nbconvert_exporter": "python",
      "pygments_lexer": "ipython3",
      "version": "3.11.5"
    },
    "colab": {
      "provenance": []
    }
  },
  "nbformat": 4,
  "nbformat_minor": 5
}