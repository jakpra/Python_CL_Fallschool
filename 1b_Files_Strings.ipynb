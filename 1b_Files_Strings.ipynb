{
 "cells": [
  {
   "cell_type": "markdown",
   "metadata": {},
   "source": [
    "# 1b Files and Strings"
   ]
  },
  {
   "cell_type": "code",
   "execution_count": null,
   "metadata": {},
   "outputs": [],
   "source": [
    "import pathlib  # After installing the package, we still need to import it to actually be able to use it in our code.\n",
    "\n",
    "infile = pathlib.Path('UD_English-GUM', 'en_gum-ud-dev.conllu')\n",
    "with open(infile) as f:               # Opens the file with the name \"infile\" and makes it available as the variable \"f\".\n",
    "    for line in f:                    # Loops over individual lines in the file.\n",
    "        line = line.strip()           # Removes whitespaces and newline characters (\\n) from a line.\n",
    "        if line.startswith('#'):      # Checks if a line starts with '#'.\n",
    "           continue                   # If we do encounter such a line, we skip it. The \"continue\" statement immediately starts a new loop.\n",
    "        if line:                      # Otherwise, if we read a non-empty line, ...\n",
    "            print(line)               # ... print it.\n",
    "        else:                         # The only other possible case is that we encounter an empty line.\n",
    "            break                     # Then we break out of the loop."
   ]
  },
  {
   "cell_type": "markdown",
   "metadata": {},
   "source": [
    "### Exercise\n",
    "\n",
    "How can we change this code, so that it doesn't stop after the first word but keeps looping through the whole document?"
   ]
  },
  {
   "cell_type": "markdown",
   "metadata": {},
   "source": [
    "## The CoNLL File Format\n",
    "\n",
    "CoNLL stands for the Conference on Computational Natural Language Learning. It regularly hosts competitions called Shared Tasks, which are often about parsing. In the past, the CoNLL file format has been very popular as the input and output format, because it presents a lot of information at the same time and is readable for both humans and computers.\n",
    "CoNLL is a flavor of TSV (tab-separated values, similar to CSV=comma-separated values), i.e. a tabular format consisting of individual data points on separate rows and a fixed number of data fields for each item in separate columns.\n",
    "\n",
    "We already know each line contains a single data point, in our case that's a word. So in each iteration of the for-loop, we have access to a word in the \"line\" variable.\n",
    "\n",
    "Now we are going to access individual fields by splitting the line at each tab-character:"
   ]
  },
  {
   "cell_type": "code",
   "execution_count": null,
   "metadata": {},
   "outputs": [],
   "source": [
    "fields = line.split('\\t')\n",
    "print(fields)"
   ]
  },
  {
   "cell_type": "markdown",
   "metadata": {},
   "source": [
    "In the context of our loop, it looks like this:"
   ]
  },
  {
   "cell_type": "code",
   "execution_count": null,
   "metadata": {},
   "outputs": [],
   "source": [
    "with open(infile) as f:               \n",
    "    for line in f:                    \n",
    "        line = line.strip()           \n",
    "        if line.startswith('#'):      \n",
    "           continue                   \n",
    "        if line:\n",
    "            fields = line.split('\\t')\n",
    "            word = fields[1]\n",
    "            lemma = fields[2]\n",
    "            upos = fields[3]\n",
    "            xpos = fields[4]\n",
    "            morph = fields[5]\n",
    "            head = fields[6]\n",
    "            deprel = fields[7]\n",
    "            print('word is', word, '; lemma is', lemma, '; part-of-speech is', upos)"
   ]
  },
  {
   "cell_type": "markdown",
   "metadata": {},
   "source": [
    "As we've seen before, lines starting with # are metadata lines. See if you can make sense of them.\n",
    "\n",
    "Another important property of CoNLL you might have noticed by now is that there are empty lines between sentences.\n",
    "Also, sentences are grouped into documents (the actual original documents they were taken from), which is reflected in the metadata (newdoc id and sent_id)."
   ]
  },
  {
   "cell_type": "markdown",
   "metadata": {},
   "source": [
    "### Exercise\n",
    "\n",
    "How would you go about parsing / extracting the metadata for each sentence and for each document?\n",
    "What kinds of research questions could it be useful for?"
   ]
  },
  {
   "cell_type": "markdown",
   "metadata": {},
   "source": [
    "## Strings"
   ]
  },
  {
   "cell_type": "markdown",
   "metadata": {},
   "source": [
    "Python is an object-oriented programming language. That means that everything that has a \"value\" is an object. (The rest are \"keywords\", but don't worry about that for now.)\n",
    "\n",
    "Each object has a type. Above, \"f\" is a variable pointing to a FileObject. And \"line\" is a variable pointing to various string objects, i.e. objects of the type \"string\".\n",
    "\n",
    "Below are a bunch of useful methods for handling and manipulating strings."
   ]
  },
  {
   "cell_type": "code",
   "execution_count": null,
   "metadata": {
    "colab": {
     "base_uri": "https://localhost:8080/"
    },
    "id": "R-l9iWLOf2Pr",
    "outputId": "7ac61113-c182-40ad-ec41-ef62610d7bed",
    "scrolled": true
   },
   "outputs": [],
   "source": [
    "string1 = \"This is a string.\\n\"\n",
    "string2 = 'This is also a string.\\n'\n",
    "string3 = \"\"\"This\n",
    "is\n",
    "a\n",
    "multi-line\n",
    "string\n",
    ".\"\"\"\n",
    "\n",
    "# Here we are just assigning some values to some variables.\n",
    "# Press Ctrl+Enter or Shift+Enter to execute the code block."
   ]
  },
  {
   "cell_type": "code",
   "execution_count": null,
   "metadata": {
    "id": "XAOXhyt6gm6l"
   },
   "outputs": [],
   "source": [
    "# Printing\n",
    "\n",
    "# We can print strings to the console.\n",
    "print(string1)\n",
    "print(string2)\n",
    "print(string3)\n",
    "\n",
    "# Press Ctrl+Enter or Shift+Enter to execute the code block."
   ]
  },
  {
   "cell_type": "code",
   "execution_count": null,
   "metadata": {
    "id": "kZKuD1aAgzOk"
   },
   "outputs": [],
   "source": [
    "# Concatenating strings\n",
    "\n",
    "new_string1 = string1 + string2\n",
    "new_string2 = 'abc' + 'd 123'\n",
    "new_string3 = 'Hello' 'World'\n",
    "new_string4 = ['The', 'brown', 'fox', 'jumped']\n",
    "\n",
    "print(new_string1)\n",
    "print(new_string2)\n",
    "print(new_string3)\n",
    "print('_'.join(new_string4))"
   ]
  },
  {
   "cell_type": "code",
   "execution_count": null,
   "metadata": {},
   "outputs": [],
   "source": [
    "# Format strings\n",
    "\n",
    "import math\n",
    "\n",
    "print('combining \"%s\" and \"%s\"'.format(new_string1, new_string2))\n",
    "print(f'combining \"{new_string3}\" and \"{new_string4}\"')\n",
    "\n",
    "some_text = 'f-strings are cool because they are easy to write and can quickly print pretty numbers like ...'\n",
    "\n",
    "# len(some_text) tells us that the \"some_text\" string is 95 characters long - try it out with a print() call!\n",
    "\n",
    "print(f'{some_text} {math.pi:.5f}')  # \".5f\" means \"a float, rounded to five decimal places\"\n",
    "#                  ^\n",
    "# If we want all the ones, tens, etc to line up, we need to add 1 for the empty space, \n",
    "# and 1 extra so that we align the rightmost digit with Pi's 3 before the decimal.\n",
    "# 95 + 1 + 1 = 97!\n",
    "\n",
    "print(f'{42:97d}')\n",
    "print(f'{4321:97d}')\n",
    "print(f'{1:97d}')\n",
    "\n",
    "# If we are printing floats (f) again instead of integers (d), we need to add the number of decimal digits (2) and the decimal point (1).\n",
    "# 97 + 2 + 1 = 100!\n",
    "\n",
    "print(f'{42:100.2f}')\n",
    "print(f'{4321:100.2f}')\n",
    "print(f'{1.23:100.2f}')\n",
    "print(f'{0.1:100.2f}')\n"
   ]
  },
  {
   "cell_type": "markdown",
   "metadata": {},
   "source": [
    "## Exercise\n",
    "\n",
    "Now it's your turn!\n",
    "Write some code that prints \"Hello NAME! Today is DATE.\", where NAME and DATE should be replaced with an arbitrary name and a date, which are each specified in variables beforehand.\n",
    "\n",
    "Once you are done with these basic requirements, feel free to experiment and make the code more complex!\n",
    "\n",
    "You can use the input() function to prompt a used for custom input, which will be stored in a new string.\n",
    "See [https://www.w3schools.com/python/ref_func_input.asp](https://www.w3schools.com/python/ref_func_input.asp) for help.\n",
    "\n",
    "You can use the datetime module to get real current time information.\n",
    "The module needs to be imported first (but does not need to be installed).\n",
    "See [https://www.w3schools.com/python/python_datetime.asp](https://www.w3schools.com/python/python_datetime.asp) for help."
   ]
  },
  {
   "cell_type": "code",
   "execution_count": null,
   "metadata": {},
   "outputs": [],
   "source": [
    "# Your code here"
   ]
  }
 ],
 "metadata": {
  "colab": {
   "provenance": []
  },
  "kernelspec": {
   "display_name": "Python 3 (ipykernel)",
   "language": "python",
   "name": "python3"
  },
  "language_info": {
   "codemirror_mode": {
    "name": "ipython",
    "version": 3
   },
   "file_extension": ".py",
   "mimetype": "text/x-python",
   "name": "python",
   "nbconvert_exporter": "python",
   "pygments_lexer": "ipython3",
   "version": "3.9.13"
  }
 },
 "nbformat": 4,
 "nbformat_minor": 4
}
