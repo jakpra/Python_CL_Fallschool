{
 "cells": [
  {
   "cell_type": "markdown",
   "metadata": {},
   "source": [
    "# 1b Files and Strings"
   ]
  },
  {
   "cell_type": "code",
   "execution_count": null,
   "metadata": {},
   "outputs": [],
   "source": [
    "import pathlib  # After installing the package, we still need to import it to actually be able to use it in our code.\n",
    "\n",
    "infile = pathlib.Path('UD_English-GUM', 'en_gum-ud-dev.conllu')\n",
    "\n",
    "# infile = r'UD_English-GUM\\en_gum-ud-dev.conllu'  # Windows\n",
    "# infile = r'UD_English-GUM/en_gum-ud-dev.conllu'  # Mac / Linux\n",
    "\n",
    "with open(infile) as f:               # Opens the file with the name \"infile\" and makes it available as the variable \"f\".\n",
    "    for line in f:                    # Loops over individual lines in the file.\n",
    "        line = line.strip()           # Removes whitespaces and newline characters (\\n) from a line.\n",
    "        if line.startswith('#'):      # Checks if a line starts with '#'. Just like in Python '#' marks comments \n",
    "                                      #  that aren't code to be executed, the computational linguistic file format we are reading \n",
    "                                      #  uses '#' to differentiate metadata from the actual linguistic data.\n",
    "           continue                   # So if we do encounter such a line, we skip it. The \"continue\" statement immediately starts a new loop.\n",
    "        if line:                      # Otherwise, if we read a non-empty line, ...\n",
    "            print(line)               # ... print it.\n",
    "        else:                         # The only other possible case is that we encounter an empty line.\n",
    "            break                     # Then we break out of the loop."
   ]
  },
  {
   "cell_type": "markdown",
   "metadata": {},
   "source": [
    "## The CoNLL File Format"
   ]
  },
  {
   "cell_type": "markdown",
   "metadata": {},
   "source": [
    "## Strings"
   ]
  },
  {
   "cell_type": "markdown",
   "metadata": {},
   "source": [
    "Python is an object-oriented programming language. That means that everything that has a \"value\" is an object. (The rest are \"keywords\", but don't worry about that for now.)\n",
    "\n",
    "Each object has a type. Above, \"f\" is a variable pointing to a FileObject. And \"line\" is a variable pointing to various string objects, i.e. objects of the type \"string\".\n",
    "\n",
    "Below are a bunch of useful methods for handling and manipulating strings."
   ]
  },
  {
   "cell_type": "code",
   "execution_count": null,
   "metadata": {
    "colab": {
     "base_uri": "https://localhost:8080/"
    },
    "id": "R-l9iWLOf2Pr",
    "outputId": "7ac61113-c182-40ad-ec41-ef62610d7bed"
   },
   "outputs": [],
   "source": [
    "string1 = \"This is a string.\\n\"\n",
    "string2 = 'This is also a string.\\n'\n",
    "string3 = \"\"\"This\n",
    "is\n",
    "a\n",
    "multi-line\n",
    "string\n",
    ".\"\"\"\n",
    "\n",
    "# We can print strings to the console. (This is a comment by the way)\n",
    "print(string1)\n",
    "print(string2)\n",
    "print(string3)\n",
    "\n",
    "# Press Ctrl+Enter to execute the code block."
   ]
  },
  {
   "cell_type": "code",
   "execution_count": null,
   "metadata": {
    "id": "XAOXhyt6gm6l"
   },
   "outputs": [],
   "source": [
    "# Printing"
   ]
  },
  {
   "cell_type": "code",
   "execution_count": null,
   "metadata": {
    "id": "kZKuD1aAgzOk"
   },
   "outputs": [],
   "source": [
    "# Concatenating strings"
   ]
  },
  {
   "cell_type": "code",
   "execution_count": null,
   "metadata": {
    "id": "RVAj6fwYg4OU"
   },
   "outputs": [],
   "source": [
    "# Variables and strings"
   ]
  },
  {
   "cell_type": "code",
   "execution_count": null,
   "metadata": {
    "id": "K5x4vDxkg7Vz"
   },
   "outputs": [],
   "source": [
    "# if-else"
   ]
  },
  {
   "cell_type": "code",
   "execution_count": null,
   "metadata": {
    "id": "1cmJSlI0hKnU"
   },
   "outputs": [],
   "source": [
    "# functions (def keyword, argument syntax, return keyword)"
   ]
  },
  {
   "cell_type": "code",
   "execution_count": null,
   "metadata": {
    "id": "LKFLjjhPhjd2"
   },
   "outputs": [],
   "source": [
    "# hello_world and similar functions"
   ]
  },
  {
   "cell_type": "code",
   "execution_count": null,
   "metadata": {},
   "outputs": [],
   "source": []
  }
 ],
 "metadata": {
  "colab": {
   "provenance": []
  },
  "kernelspec": {
   "display_name": "Python 3 (ipykernel)",
   "language": "python",
   "name": "python3"
  },
  "language_info": {
   "codemirror_mode": {
    "name": "ipython",
    "version": 3
   },
   "file_extension": ".py",
   "mimetype": "text/x-python",
   "name": "python",
   "nbconvert_exporter": "python",
   "pygments_lexer": "ipython3",
   "version": "3.9.13"
  }
 },
 "nbformat": 4,
 "nbformat_minor": 4
}
