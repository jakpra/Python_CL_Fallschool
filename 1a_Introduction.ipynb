{
 "cells": [
  {
   "cell_type": "markdown",
   "metadata": {},
   "source": [
    "# Welcome to Python for Language Processing!\n",
    "\n",
    "In this course, we will make our first steps in the Python programming language, and directly apply our new skills to answering some exciting computational linguistic questions.\n",
    "\n",
    "If you have made it to this page, you are all set to run your first lines of Python code! Congrats!\n",
    "\n",
    "This browser-based interface is called a Jupyter notebook. These notebooks are structured into code blocks (and text blocks like the one you are reading right now).\n",
    "\n",
    "To execute a single block, press Ctrl+Enter. To execute a block and directly move to the next one, ready to execute it in turn, press Shift+Enter.\n",
    "\n",
    "Press Shift+Enter now!"
   ]
  },
  {
   "cell_type": "code",
   "execution_count": null,
   "metadata": {},
   "outputs": [],
   "source": [
    "!pip install pathlib"
   ]
  },
  {
   "cell_type": "markdown",
   "metadata": {},
   "source": [
    "Lines starting with an exclamation mark (!) are still not actual Python code, but rather they execute a command on your OS' commandline.\n",
    "The command above installed a package called `pathlib`, which makes it easier to open files on different systems.\n",
    "Windows infamously uses backslashes (\\) instead of normal slashes (/) in paths, so we would have to use different strings depending on the OS.\n",
    "Pathlib gets rid of that.\n",
    "\n",
    "Let's move to the next block (Shift+Enter), this one is finally actual Python code!"
   ]
  },
  {
   "cell_type": "code",
   "execution_count": null,
   "metadata": {},
   "outputs": [],
   "source": [
    "import pathlib  # After installing the package, we still need to import it to actually be able to use it in our code.\n",
    "\n",
    "infile = pathlib.Path('UD_English-GUM', 'en_gum-ud-dev.conllu')\n",
    "\n",
    "# infile = r'UD_English-GUM\\en_gum-ud-dev.conllu'  # Windows\n",
    "# infile = r'UD_English-GUM/en_gum-ud-dev.conllu'  # Mac / Linux\n",
    "\n",
    "with open(infile) as f:               # Opens the file with the name \"infile\" and makes it available as the variable \"f\".\n",
    "    for line in f:                    # Loops over individual lines in the file.\n",
    "        line = line.strip()           # Removes whitespaces and newline characters (\\n) from a line.\n",
    "        if line.startswith('#'):      # Checks if a line starts with '#'. Just like in Python '#' marks comments \n",
    "                                      #  that aren't code to be executed, the computational linguistic file format we are reading \n",
    "                                      #  uses '#' to differentiate metadata from the actual linguistic data.\n",
    "           continue                   # So if we do encounter such a line, we skip it. The \"continue\" statement immediately starts a new loop.\n",
    "        if line:                      # Otherwise, if we read a non-empty line, ...\n",
    "            print(line)               # ... print it.\n",
    "        else:                         # The only other possible case is that we encounter an empty line.\n",
    "            break                     # Then we break out of the loop."
   ]
  },
  {
   "cell_type": "markdown",
   "metadata": {},
   "source": [
    "Here, we opened a file and \"printed\" (=showed) the first sentence to the console.\n",
    "You can review step by step what happened there by reading the inline comments starting with '#'.\n",
    "These comments are just for us humans to read, the Python Interpreter (= the computer) ignores them.\n",
    "\n",
    "For example, if we comment out some of the lines of code, they will not be executed:"
   ]
  },
  {
   "cell_type": "code",
   "execution_count": null,
   "metadata": {},
   "outputs": [],
   "source": [
    "with open(infile) as f:\n",
    "    for line in f:\n",
    "        line = line.strip()\n",
    "        # if line.startswith('#'):\n",
    "        #    continue\n",
    "        if line:\n",
    "            print(line)\n",
    "        else:\n",
    "            break"
   ]
  },
  {
   "cell_type": "markdown",
   "metadata": {},
   "source": [
    "We can use this to our advantage in order to try out different variants of code, find bugs, etc.\n",
    "Play around with the code snippet above by commenting out different lines and seeing how the behavior changes!"
   ]
  },
  {
   "cell_type": "code",
   "execution_count": null,
   "metadata": {},
   "outputs": [],
   "source": [
    "# You can also write your own first couple line of Python code here!"
   ]
  },
  {
   "cell_type": "markdown",
   "metadata": {},
   "source": [
    "## Cool Huggingface Demo"
   ]
  },
  {
   "cell_type": "code",
   "execution_count": null,
   "metadata": {},
   "outputs": [],
   "source": []
  }
 ],
 "metadata": {
  "colab": {
   "provenance": []
  },
  "kernelspec": {
   "display_name": "Python 3 (ipykernel)",
   "language": "python",
   "name": "python3"
  },
  "language_info": {
   "codemirror_mode": {
    "name": "ipython",
    "version": 3
   },
   "file_extension": ".py",
   "mimetype": "text/x-python",
   "name": "python",
   "nbconvert_exporter": "python",
   "pygments_lexer": "ipython3",
   "version": "3.9.13"
  }
 },
 "nbformat": 4,
 "nbformat_minor": 4
}
