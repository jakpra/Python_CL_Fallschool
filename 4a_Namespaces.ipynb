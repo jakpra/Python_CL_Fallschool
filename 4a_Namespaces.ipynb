{
 "cells": [
  {
   "cell_type": "markdown",
   "metadata": {
    "id": "CmMsKgykYW8a"
   },
   "source": [
    "## Introduction to Python Programming\n",
    "[**CC-BY-NC-SA**](https://creativecommons.org/licenses/by-nc-sa/4.0/deed.en)<br/>\n",
    "Prof. Dr. Annemarie Friedrich<br/>\n",
    "Dr. Jakob Prange<br/>\n",
    "Faculty of Applied Computer Science, University of Augsburg<br/>"
   ]
  },
  {
   "cell_type": "markdown",
   "metadata": {
    "id": "Pc86atnzYW8c"
   },
   "source": [
    "## 4a Functions and Namespaces\n",
    "### Sorting"
   ]
  },
  {
   "cell_type": "markdown",
   "metadata": {
    "id": "RDTXCuCod1Sx"
   },
   "source": [
    "Implement the naive sorting algorithm as described below. Try to identify a subproblem that occurs multiple times throughout the algorithm.\n",
    "Create a separate function just for the subproblem and use it inside naive_sort()."
   ]
  },
  {
   "cell_type": "code",
   "execution_count": null,
   "metadata": {
    "id": "AT3tA_b6d67X"
   },
   "outputs": [],
   "source": [
    "def naive_sort(x):\n",
    "  \"\"\"Create new list. Find smallest value\n",
    "  in list, append to new list, remove\n",
    "  from current list. SUBPROBLEM? \"\"\"\n",
    "  pass"
   ]
  },
  {
   "cell_type": "code",
   "execution_count": null,
   "metadata": {
    "id": "5kAWxh2Neb8B"
   },
   "outputs": [],
   "source": [
    "my_list = [5, 3, 1, 4, 8, 2, 7, 6]\n",
    "my_sorted_list = naive_sort(my_list)\n",
    "print(my_sorted_list)\n",
    "# should print: [1, 2, 3, 4, 5, 6, 7, 8]"
   ]
  },
  {
   "cell_type": "markdown",
   "metadata": {
    "id": "1HozZp4whSI4"
   },
   "source": [
    "### Variables and Namespaces\n",
    "\n",
    "Which names/variables are part of which namespace?"
   ]
  },
  {
   "cell_type": "code",
   "execution_count": null,
   "metadata": {
    "id": "AzQ2g3uNhXDo"
   },
   "outputs": [],
   "source": [
    "# Identify the namespaces.\n",
    "x = type(5) == int\n",
    "\n",
    "def f(x):\n",
    "    x += 10\n",
    "    for i in range(5):\n",
    "        x += 1\n",
    "    return x\n",
    "\n",
    "y = f(3)\n",
    "print(x, y)"
   ]
  },
  {
   "cell_type": "code",
   "execution_count": null,
   "metadata": {
    "id": "WFQ6N9bmhcm-"
   },
   "outputs": [],
   "source": [
    "# What happens here?\n",
    "x = type(5) == int\n",
    "\n",
    "def f(x):\n",
    "    x += 10\n",
    "    for x in range(5):\n",
    "        x += 2\n",
    "    return x\n",
    "\n",
    "y = f(3)\n",
    "print(x, y)"
   ]
  },
  {
   "cell_type": "markdown",
   "metadata": {
    "id": "6estBVB7i9sN"
   },
   "source": [
    "### Side Effects\n",
    "\n",
    "What is printed in each case? In which case does a side effect occur?"
   ]
  },
  {
   "cell_type": "code",
   "execution_count": null,
   "metadata": {
    "id": "fnaDDXqNjDNk"
   },
   "outputs": [],
   "source": [
    "def incr(items):\n",
    "  for i in range(len(items)):\n",
    "    items[i] += 1\n",
    "  return items\n",
    "\n",
    "example = [1, 2, 3, 4]\n",
    "print(example)\n",
    "print(incr(example))\n",
    "print(example)"
   ]
  },
  {
   "cell_type": "code",
   "execution_count": null,
   "metadata": {
    "id": "k5fbyT4VjHKr"
   },
   "outputs": [],
   "source": [
    "def incr(n):\n",
    "  n += 1\n",
    "\n",
    "example = 1\n",
    "print(example)\n",
    "incr(example)\n",
    "print(example)"
   ]
  },
  {
   "cell_type": "markdown",
   "metadata": {
    "id": "ZkY8k3B-jI5k"
   },
   "source": [
    "### Recursion\n",
    "\n",
    "Write a recursive function computing the factorial of a non-negative number.\n",
    "\n",
    "factorial(0) = 1\n",
    "\n",
    "factorial(n) = n * factorial(n-1)"
   ]
  },
  {
   "cell_type": "code",
   "execution_count": null,
   "metadata": {
    "id": "T-h4uL6hj8sL"
   },
   "outputs": [],
   "source": [
    "def factorial(n):\n",
    "  # Your code here\n",
    "  pass"
   ]
  },
  {
   "cell_type": "markdown",
   "metadata": {
    "id": "LLTLwYOij-Pg"
   },
   "source": [
    "Implement a version of sum() that computes the sum of numbersin a possibly nested list of lists."
   ]
  },
  {
   "cell_type": "code",
   "execution_count": null,
   "metadata": {
    "id": "Asi5bLAQkCS1"
   },
   "outputs": [],
   "source": [
    "def nestedsum(my_list):\n",
    "  # Your code here\n",
    "  pass"
   ]
  },
  {
   "cell_type": "code",
   "execution_count": null,
   "metadata": {
    "id": "VKDOMxlskDh_"
   },
   "outputs": [],
   "source": [
    "nestedsum([1, 2, 3, 4, 5])\n",
    "nestedsum([1, [2, 3, [4], []], [5]])\n",
    "# These should both return 15"
   ]
  },
  {
   "cell_type": "markdown",
   "metadata": {
    "id": "MqCtuAuJkcTo"
   },
   "source": [
    "### Functions inside Functions"
   ]
  },
  {
   "cell_type": "code",
   "execution_count": null,
   "metadata": {
    "id": "OjT2WxE7kgSz"
   },
   "outputs": [],
   "source": [
    "def outer(x):\n",
    "  def inner(y):\n",
    "    return x + y\n",
    "  return inner(1)\n",
    "\n",
    "outer(7)"
   ]
  },
  {
   "cell_type": "code",
   "execution_count": null,
   "metadata": {
    "id": "MU0dhIZUk0EN"
   },
   "outputs": [],
   "source": [
    "def outer(x):\n",
    "  def inner(y):\n",
    "    return x + y\n",
    "  return inner\n",
    "\n",
    "f1 = outer(1)\n",
    "f2 = outer(7)\n",
    "print(f1)\n",
    "print(f1(3))\n",
    "print(f1(4))\n",
    "print(f2(4))"
   ]
  },
  {
   "cell_type": "markdown",
   "metadata": {
    "id": "HQp720B-lQP-"
   },
   "source": [
    "### Keyword Arguments\n",
    "\n",
    "The default valueis evaluated when the function definition is evaluated (read in).\n",
    "\n",
    "This can have strange effects when the default value is a list (or some other value that can be modified)."
   ]
  },
  {
   "cell_type": "code",
   "execution_count": null,
   "metadata": {
    "id": "rHk5ZavXlRum"
   },
   "outputs": [],
   "source": [
    "def f(someparameter = []):\n",
    "  someparameter.append(1)\n",
    "  return someparameter\n",
    "\n",
    "\n",
    "# What happens here?"
   ]
  },
  {
   "cell_type": "code",
   "execution_count": null,
   "metadata": {
    "id": "VOkccqLmlfZv"
   },
   "outputs": [],
   "source": [
    "print(f())    # [1]"
   ]
  },
  {
   "cell_type": "code",
   "execution_count": null,
   "metadata": {
    "id": "g8Suxp7flfil"
   },
   "outputs": [],
   "source": [
    "print(f())    # [1, 1]"
   ]
  },
  {
   "cell_type": "code",
   "execution_count": null,
   "metadata": {
    "id": "qT4HHR3nlfnC"
   },
   "outputs": [],
   "source": [
    "print(f([]))  # [1]"
   ]
  },
  {
   "cell_type": "code",
   "execution_count": null,
   "metadata": {
    "id": "2YKxc2mYlfqL"
   },
   "outputs": [],
   "source": [
    "x = []\n",
    "print(f(x))"
   ]
  },
  {
   "cell_type": "code",
   "execution_count": null,
   "metadata": {
    "id": "bjH5ObIWlo-L"
   },
   "outputs": [],
   "source": [
    "print(f(x))"
   ]
  },
  {
   "cell_type": "code",
   "execution_count": null,
   "metadata": {
    "id": "W56zipkdlpHD"
   },
   "outputs": [],
   "source": [
    "print(f([]))"
   ]
  },
  {
   "cell_type": "markdown",
   "metadata": {
    "id": "ZTcSm2Lwl9uX"
   },
   "source": [
    "How can we fix the function f such that it actually creates a default empty list when called without a value for someparameter?"
   ]
  },
  {
   "cell_type": "code",
   "execution_count": null,
   "metadata": {
    "id": "oJT_TwREmDrU"
   },
   "outputs": [],
   "source": [
    "def f(x, y=\"Hello\", z=5):\n",
    "  return str(x) + y + str(z)"
   ]
  },
  {
   "cell_type": "markdown",
   "metadata": {
    "id": "PJ5nnkhSmIJI"
   },
   "source": [
    "Which of the following cases are valid? Which ones will result in errors? Why?"
   ]
  },
  {
   "cell_type": "code",
   "execution_count": null,
   "metadata": {
    "id": "JEPtyC7kmJdg"
   },
   "outputs": [],
   "source": [
    "f(27, y=\"Bonjour\")\n",
    "f(y=\"Salut\", 101)\n",
    "f(42, z=1)\n",
    "f(s=\"Bye\")\n",
    "f()"
   ]
  },
  {
   "cell_type": "markdown",
   "metadata": {
    "id": "U8-2x9BBmbvj"
   },
   "source": [
    "Positional arguments: need to come first, no \"name\" given, order matters!\n",
    "\n",
    "Python is quite flexible: `*positional` gives access to all positional arguments (as a tuple).\n",
    "\n",
    "`**keywords` gives access to a dictionary with all keyword-value pairs.\n",
    "\n",
    "These shorthand asterisk notations can also be combined with \"regular\" positional and keyword arguments, listed one by one.\n",
    "\n",
    "Try it out!"
   ]
  },
  {
   "cell_type": "code",
   "execution_count": null,
   "metadata": {
    "id": "MFFdjOqsmY9M"
   },
   "outputs": [],
   "source": [
    "def f(*positional, **keywords):\n",
    "  print(\"Positional\", positional)\n",
    "  print(\"Keywords\", keywords)\n",
    "\n",
    "f(1, 2, 3)"
   ]
  },
  {
   "cell_type": "code",
   "execution_count": null,
   "metadata": {
    "id": "Gi5l9lbLniD8"
   },
   "outputs": [],
   "source": [
    "f(a=1, b=2)"
   ]
  },
  {
   "cell_type": "code",
   "execution_count": null,
   "metadata": {
    "id": "5r3vNkVenivD"
   },
   "outputs": [],
   "source": [
    "f(1, 2, a=2)"
   ]
  },
  {
   "cell_type": "code",
   "execution_count": null,
   "metadata": {
    "id": "3qnt03iCm-ta"
   },
   "outputs": [],
   "source": [
    "def g(required, *positional, optional, **keywords):\n",
    "  print(\"Required\", required)\n",
    "  print(\"Positional\", positional)\n",
    "  print(\"Optional\", optional)\n",
    "  print(\"Keywords\", keywords)\n",
    "\n",
    "g(1, 2, 3, optional=4)"
   ]
  },
  {
   "cell_type": "code",
   "execution_count": null,
   "metadata": {
    "id": "PMGcMWIlnehA"
   },
   "outputs": [],
   "source": [
    "g(1, 2, optional=3, another_one=4)"
   ]
  },
  {
   "cell_type": "code",
   "execution_count": null,
   "metadata": {
    "id": "66XVfcGYnc70"
   },
   "outputs": [],
   "source": [
    "# These two throw errors. Why?\n",
    "g(a=1, b=2)\n",
    "g(1, 2, a=2)"
   ]
  },
  {
   "cell_type": "markdown",
   "metadata": {
    "id": "GI6NO5Gkd1o2"
   },
   "source": [
    "### Anonymous Functions: `lambda`\n",
    "\n",
    "Now, we will take a look at another way of defining functions.\n",
    "Recall that any function in Python is an object.\n",
    "The regular way of defining functions in Python works as follows."
   ]
  },
  {
   "cell_type": "code",
   "execution_count": null,
   "metadata": {
    "id": "KbiGsHyHYW8d"
   },
   "outputs": [],
   "source": [
    "def add(x, y):\n",
    "    \"\"\"Computes the sum of x and y.\"\"\"\n",
    "    return x + y\n",
    "\n",
    "add2 = add\n",
    "\n",
    "print(add, add2)\n"
   ]
  },
  {
   "cell_type": "markdown",
   "metadata": {
    "id": "lAD74KKGYW8e"
   },
   "source": [
    "In Python, we can easily assign the function object to other variable names, which then point to the same function object. Above, the printout tells us that both `add` and `add2` point to the same function object (as indicated by the same memory location shown).\n",
    "\n",
    "The `lambda` parameter offers a convenient way to define small functions briefly. Lambda functions can take parameters, but they cannot be used together with function annotations.\n",
    "\n",
    "The expression within the `print` function below defines a function object. In this case, this function does not have a name, i.e., no variable points to it, it is \"anonymous.\""
   ]
  },
  {
   "cell_type": "code",
   "execution_count": null,
   "metadata": {
    "id": "2oP35vIEYW8e"
   },
   "outputs": [],
   "source": [
    "print(lambda : print(\"Hello world\"))"
   ]
  },
  {
   "cell_type": "markdown",
   "metadata": {
    "id": "RhKMDh3XYW8f"
   },
   "source": [
    "Like with regular functions, we can even assign this function object to a variable. (Although in such a case, a regular function definition with a proper docstring would highly recommended!)"
   ]
  },
  {
   "cell_type": "code",
   "execution_count": null,
   "metadata": {
    "id": "UIXGYal5YW8f"
   },
   "outputs": [],
   "source": [
    "helloWorld = lambda : print(\"Hello world\")\n",
    "helloWorld()"
   ]
  },
  {
   "cell_type": "markdown",
   "metadata": {
    "id": "IQu8VuSyYW8g"
   },
   "source": [
    "Lambda expression can also take parameters:"
   ]
  },
  {
   "cell_type": "code",
   "execution_count": null,
   "metadata": {
    "id": "1sVpZmslYW8g"
   },
   "outputs": [],
   "source": [
    "add = lambda x, y : x + y\n",
    "print(add(2, 1))"
   ]
  },
  {
   "cell_type": "markdown",
   "metadata": {
    "id": "e7oYUBMrYW8i"
   },
   "source": [
    "As said above, lambda expressions are intended to be used when you actually do NOT want to name your function, e.g., because it is just in a particular context. One such use case is defining a short function that determines how to sort a list, as follows."
   ]
  },
  {
   "cell_type": "code",
   "execution_count": null,
   "metadata": {
    "id": "YVCJlG8jYW8j"
   },
   "outputs": [],
   "source": [
    "people = [\n",
    "    (\"Bob\", 30),\n",
    "    (\"Alice\", 25),\n",
    "    (\"Charlie\", 35),\n",
    "    (\"Eva\", 28),\n",
    "    (\"David\", 32)\n",
    "]\n",
    "\n",
    "people.sort() # By default, this sorts by the value of the first tuple.\n",
    "print(people)"
   ]
  },
  {
   "cell_type": "markdown",
   "metadata": {
    "id": "YbNR3wNcYW8j"
   },
   "source": [
    "The `sort()` function accepts a keyword argument called `key` which expects a function that takes one item of the list at a time and returns the part of the item according to which the list should be sorted. In the following, we define such a function explicitly and pass it to the `sort()` function (as a reference to that function object)."
   ]
  },
  {
   "cell_type": "code",
   "execution_count": null,
   "metadata": {
    "id": "XbWdp-rDYW8j"
   },
   "outputs": [],
   "source": [
    "def get_age(person):\n",
    "    \"\"\" Returns the age of the person \"\"\"\n",
    "    return person[1] # 2nd element corresponds to the age\n",
    "\n",
    "people.sort(key = get_age) # By default, this sorts by the value of the first tuple.\n",
    "print(people)"
   ]
  },
  {
   "cell_type": "markdown",
   "metadata": {
    "id": "CKS1LH_IYW8j"
   },
   "source": [
    "Because that is a lot of code and such functions are usually simple and easy to read, we usually use lambda expressions in such cases. Much less code!"
   ]
  },
  {
   "cell_type": "code",
   "execution_count": null,
   "metadata": {
    "id": "P3goqW4zYW8k"
   },
   "outputs": [],
   "source": [
    "people.sort(key = lambda x: x[1]) # Sort by age (second entry of tuples in list)\n",
    "print(people)"
   ]
  },
  {
   "cell_type": "markdown",
   "metadata": {
    "id": "JeKgKAl4YW8k"
   },
   "source": [
    "In the context of default dictionaries, there is an other interesting use case for lambda expressions. As illustrated by the following example, in a `defaultdict`, the following steps happen when trying to get an item using the bracket notation:\n",
    "* Under the hood, Python calls a function called `__getitem__(key)`.\n",
    "* This function triggers the mechanism for inserting a default value under that key into the dictionary, and returning that value for further processing.\n",
    "* If we enter a type name like `int` below when creating the `defaultdict`, it will create the default value for that type (e.g., `0` for `int`).\n",
    "* Instead, we can use a lambda expression that is called and returns some default value to be inserted."
   ]
  },
  {
   "cell_type": "code",
   "execution_count": null,
   "metadata": {
    "id": "Hb7d_VcHYW8k"
   },
   "outputs": [],
   "source": [
    "from collections import defaultdict\n",
    "\n",
    "d = defaultdict(int)\n",
    "d[\"someKey\"] += 1\n",
    "print(d)\n",
    "\n",
    "# This has the same effect\n",
    "d = defaultdict(lambda: 0)\n",
    "d[\"someKey\"] += 1\n",
    "print(d)\n",
    "\n",
    "print(d[\"another_key\"]) # This calls d.__getitem__(key) and triggers the mechanism for creating an inserting the default value under key\n",
    "print(d.get(\"another_unknown_key\")) # This just accesses the key value, if it does not exist, it returns None!"
   ]
  },
  {
   "cell_type": "markdown",
   "metadata": {
    "id": "5oNYe4UhYW8k"
   },
   "source": [
    "It may be useful to create a defaultdict that has inner defaultdicts.\n",
    "However, when you execute the following line of code, what happens? And why is that?"
   ]
  },
  {
   "cell_type": "code",
   "execution_count": null,
   "metadata": {
    "id": "Lob2GM34YW8k"
   },
   "outputs": [],
   "source": [
    "d = defaultdict(defaultdict(int))"
   ]
  },
  {
   "cell_type": "markdown",
   "metadata": {
    "id": "6MZfm4x0YW8l"
   },
   "source": [
    "Let's take a look at this error message: the input to `defaultdict()` must be a function. Why did this work for `int`? This is because the built-in classes in Python are _callable_ (we will talk more about this later), i.e., they can behave as a function. And `int`, as we see below, is a class. But what about `defaultdict(int)`?"
   ]
  },
  {
   "cell_type": "code",
   "execution_count": null,
   "metadata": {
    "id": "XVuY8hwrYW8l"
   },
   "outputs": [],
   "source": [
    "print(\"int:\", int)\n",
    "print(\"defaultdict(int):\", defaultdict(int))"
   ]
  },
  {
   "cell_type": "markdown",
   "metadata": {
    "id": "t2X059veYW8l"
   },
   "source": [
    "This output tells us that `int` is a class, but that `defaultdict(int)` is a concrete value, a defaultdict that uses default values from `<class 'int'>` and that is currently an empty dictionary.\n",
    "\n",
    "Hence, we need to fix that! We need a function that returns a defaultdict with integers as their default value. Thanks to the lambda function, this is easy:"
   ]
  },
  {
   "cell_type": "code",
   "execution_count": null,
   "metadata": {
    "id": "nH3Fr9c8YW8l"
   },
   "outputs": [],
   "source": [
    "# Third part\n",
    "d = defaultdict(lambda: defaultdict(int))\n",
    "d[\"test\"]\n",
    "print(d)"
   ]
  },
  {
   "cell_type": "markdown",
   "metadata": {
    "id": "OhJhMH0KYW8l"
   },
   "source": [
    "Remember this \"recipe,\" it's quite handy!"
   ]
  },
  {
   "cell_type": "markdown",
   "metadata": {
    "id": "1_ZQzhUOYW8l"
   },
   "source": [
    "### Exercise 1\n",
    "\n",
    "Modify the example from above such that it sorts by the reversed names (e.g. 'Alice' is now sorted as if it were 'ecilA').\n",
    "\n",
    "Use a lambda expression!\n",
    "\n",
    "Check your solution: it should print `[('Eva', 28), ('Bob', 30), ('David', 32), ('Alice', 25), ('Charlie', 35)]`"
   ]
  },
  {
   "cell_type": "code",
   "execution_count": null,
   "metadata": {
    "id": "Rz3NV2k6YW8l"
   },
   "outputs": [],
   "source": [
    "# Your code here"
   ]
  },
  {
   "cell_type": "markdown",
   "metadata": {
    "id": "FUrRDQ_7YW8m"
   },
   "source": [
    "### Exercise 2\n",
    "\n",
    "1. Create a default dictionary whose default value is a string \"Hello\". Then, insert some values into the dictionary such that the dictionary looks like this:\n",
    "```\n",
    "d = {\"Tom\" : \"Hello Tom\", \"Susie\": \"Hello Susie\"}\n",
    "```\n",
    "\n",
    "2. Create a default dictionary whose default value is an empty dictionary.\n",
    "\n",
    "3. Create a default dictionary whose default value is a default dictionary with empty lists. The following line should be executable right after constructing the default dictionary: `d[\"outer level\"][\"inner level\"].append(\"inside list\")` -- inspect the results!"
   ]
  },
  {
   "cell_type": "code",
   "execution_count": null,
   "metadata": {
    "id": "nC8n0XF9YW8m"
   },
   "outputs": [],
   "source": [
    "# Your code here"
   ]
  }
 ],
 "metadata": {
  "colab": {
   "collapsed_sections": [
    "pkDvrgVyYlPi"
   ],
   "provenance": []
  },
  "kernelspec": {
   "display_name": "Python 3 (ipykernel)",
   "language": "python",
   "name": "python3"
  },
  "language_info": {
   "codemirror_mode": {
    "name": "ipython",
    "version": 3
   },
   "file_extension": ".py",
   "mimetype": "text/x-python",
   "name": "python",
   "nbconvert_exporter": "python",
   "pygments_lexer": "ipython3",
   "version": "3.9.13"
  }
 },
 "nbformat": 4,
 "nbformat_minor": 4
}
