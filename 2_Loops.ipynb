{
 "cells": [
  {
   "cell_type": "markdown",
   "id": "2cf658c2-25c9-48db-9869-fa339c968637",
   "metadata": {},
   "source": [
    "# 2 Loops"
   ]
  },
  {
   "cell_type": "code",
   "execution_count": null,
   "id": "7dc16622-3fc3-42d1-9bf1-6fa4c8e72eb0",
   "metadata": {},
   "outputs": [],
   "source": [
    "import pathlib  # After installing the package, we still need to import it to actually be able to use it in our code.\n",
    "\n",
    "infile = pathlib.Path('UD_English-GUM', 'en_gum-ud-dev.conllu')\n",
    "with open(infile) as f:               \n",
    "    for line in f:                    # Loops over individual lines in the file.  <<<<<<<<<<<\n",
    "        line = line.strip()           \n",
    "        if line.startswith('#'):      # Checks if a line starts with '#'.         <<<<<<<<<<<\n",
    "           continue                   \n",
    "        if line:                      # Otherwise, if we read a non-empty line, ...   <<<<<<<<<<<\n",
    "            print(line)               \n",
    "        else:                         # The only other possible case is that we encounter an empty line.      <<<<<<<<<<\n",
    "            break                     # Then we break out of the loop.            <<<<<<<<<<<"
   ]
  },
  {
   "cell_type": "markdown",
   "id": "c03633fd-df28-4f73-bb01-b6f4a3f9fb40",
   "metadata": {},
   "source": [
    "In Python, objects are \"things\" that have values. They are referred to in code via \"expressions\". Can you think of a few examples?\n",
    "\n",
    "In contrast to objects and expressions, control structures are certain keywords or combinations of keywords that tell the Python Interpreter program where to go next.\n",
    "There are loops and branches.\n",
    "\n",
    "Loops execute something repeatedly. Branches execute something only under certain conditions.\n",
    "\n",
    "Note: Spaces are important! Indentation shows the structure of the code."
   ]
  },
  {
   "cell_type": "markdown",
   "id": "21bdce78-8ae6-401d-8183-a41b3c446115",
   "metadata": {},
   "source": [
    "## Blocks\n",
    "\n",
    "A \"block\" is a grouping of statements.\n",
    "Instructions of the same block must be indented by the same number of the same type of whitespace characters (blank/tab).\n",
    "Best practice: always stick to the same type of whitespace! Using an IDE (e.g. VSCode) makes your life easier."
   ]
  },
  {
   "cell_type": "markdown",
   "id": "ca61667c-c3f1-4d0e-b967-cbb229e34dd5",
   "metadata": {},
   "source": [
    "## For-loops\n",
    "\n",
    "For-loops are used to iterate over iterable objects, usually collections like lists."
   ]
  },
  {
   "cell_type": "code",
   "execution_count": null,
   "id": "9857c05b-c789-4927-b13c-36f3a291139d",
   "metadata": {},
   "outputs": [],
   "source": [
    "my_list = ['apples', 'bananas', 'citrus']  # This is a list. What does it consist of?\n",
    "\n",
    "# For-loops are declared with the \"for\" and \"in\" keywords.\n",
    "for item in my_list:   # The thing that comes between the \"for\" and the \"in\" is a variable, \n",
    "                       # which in each iteration of the loop takes the respective next value.\n",
    "    print(item)        # It can be accessed inside the loop.\n",
    "\n",
    "for item in ['apples', 'bananas', 'citrus']:  # You can also declare the list directly in the loop declaration.\n",
    "    print(item)"
   ]
  },
  {
   "cell_type": "markdown",
   "id": "591a050b-6984-467e-90f2-b6d968e620c9",
   "metadata": {},
   "source": [
    "Here is another example:"
   ]
  },
  {
   "cell_type": "code",
   "execution_count": null,
   "id": "74bc1553-2e39-4cb2-9564-12a599bdd9c7",
   "metadata": {},
   "outputs": [],
   "source": [
    "weekdays = ['Tuesday', 'Thursday']\n",
    "for day in weekdays:\n",
    "   print(\"Today is a\", day)"
   ]
  },
  {
   "cell_type": "markdown",
   "id": "bed19216-bb59-4d9e-998e-d888b0d12ad7",
   "metadata": {},
   "source": [
    "## Exercise\n",
    "\n",
    "What is the output of the following program?"
   ]
  },
  {
   "cell_type": "code",
   "execution_count": null,
   "id": "5d996efc-8339-4634-9f6b-f10d6497758e",
   "metadata": {},
   "outputs": [],
   "source": [
    "fruits = [\"apple\", \"banana\", \"melon\"]\n",
    "for i in range(2, 6, 2):\n",
    "    for f in fruits:\n",
    "        print(str(i) + \" \" + f + \"s\")"
   ]
  },
  {
   "cell_type": "markdown",
   "id": "193e82cc-1c2b-466f-a6a8-80c761c127a5",
   "metadata": {},
   "source": [
    "## Ranges\n",
    "\n",
    "A special type of iterable that is very useful for looping are ranges."
   ]
  },
  {
   "cell_type": "code",
   "execution_count": null,
   "id": "ff7864c4-bdc3-4a57-a31e-fc9e50860fb9",
   "metadata": {},
   "outputs": [],
   "source": [
    "for i in range(0,5):\n",
    "   print(i)"
   ]
  },
  {
   "cell_type": "markdown",
   "id": "8bc2f1a5-9306-47da-821a-0118c2f97b02",
   "metadata": {},
   "source": [
    "For now, you can imagine that `range(0,5)` creates a list: `[0, 1, 2, 3, 4]`\n",
    "\n",
    "Note: `range(start, end)` - The end point is not included in the sequence.\n",
    "\n",
    "`range(start, end, step)` All arguments must be integers (whole numbers).\n",
    "\n",
    "`range(0,10,2)` returns `[0, 2, 4, 6, 8]`\n",
    "\n",
    "`range(10,0,-2)` returns `[10, 8, 6, 4, 2]`"
   ]
  },
  {
   "cell_type": "markdown",
   "id": "328cd254-f6e7-4238-9138-8c8b6ee7eaa9",
   "metadata": {},
   "source": [
    "As we can see in our working example at the beginning of this notebook and the ones from yesterday, file objects are iterable, too! They directly let us iterate over individual lines."
   ]
  },
  {
   "cell_type": "markdown",
   "id": "1c856306-e7ab-4e8f-b79f-dfbb65753698",
   "metadata": {},
   "source": [
    "## If-statements\n",
    "\n",
    "Another very important but thankfully also very intuitive control structure we see in the working example is If-else-branches.\n",
    "\n",
    "First, the expression after \"if\" is evaluated as a logical expression, resulting in a truth value, `True` or `False`."
   ]
  },
  {
   "cell_type": "code",
   "execution_count": null,
   "id": "2a9465b3-07d5-4532-8b46-f6a6ba073b0f",
   "metadata": {},
   "outputs": [],
   "source": [
    "# Logical operators\n",
    "\n",
    "a = True\n",
    "b = False\n",
    "\n",
    "not a     # inverses value (not True -> False, not False -> True)\n",
    "a and b   # logical and (remember truth tables?)\n",
    "a or b    # logical or\n",
    "\n",
    "# comparison operators\n",
    "\n",
    "x = 3\n",
    "y = 4\n",
    "\n",
    "x == y    # True if values are equal, False otherwise\n",
    "x < y     # less than\n",
    "x > y     # greater than\n",
    "x <= y    # less than or equal\n",
    "x >= y    # greater than or equal"
   ]
  },
  {
   "cell_type": "markdown",
   "id": "a4435596-0518-4445-9a8b-ae308e5dbc5d",
   "metadata": {},
   "source": [
    "## Exercises\n",
    "\n",
    "What are the values of these expressions?\n",
    "\n",
    "`(True or False) and False`\n",
    "\n",
    "`1+4 >= 2*2`\n",
    "\n",
    "```\n",
    "hypothesis = True\n",
    "p = False\n",
    "q = True\n",
    "not ((not hypothesis) or (p or q))\n",
    "```"
   ]
  },
  {
   "cell_type": "code",
   "execution_count": null,
   "id": "d050f108-32cf-4c81-8a02-74f45005571b",
   "metadata": {},
   "outputs": [],
   "source": [
    "# Test your solutions here by copy+pasting! You can also try your own complex expressions!"
   ]
  },
  {
   "cell_type": "markdown",
   "id": "53bc1a2b-5346-4f10-bca6-fdbe9830300d",
   "metadata": {},
   "source": [
    "Let's put it all together!\n",
    "\n",
    "What are the values of a, b and c after executing the following piece of code?"
   ]
  },
  {
   "cell_type": "code",
   "execution_count": null,
   "id": "52f2ce1e-c89c-448c-a12b-2d6abb0962ed",
   "metadata": {},
   "outputs": [],
   "source": [
    "a = b = 2\n",
    "c = False\n",
    "if not c:\n",
    "    if b < a:\n",
    "        b += 5\n",
    "        a = b-1\n",
    "    elif a < b:\n",
    "        c = True\n",
    "    else:\n",
    "        if a+b < 4:\n",
    "            c = False\n",
    "        a = 11\n",
    "        b = 2.2\n",
    "print(a,  b,  c)"
   ]
  },
  {
   "cell_type": "markdown",
   "id": "abf4ef50-e657-40ce-af13-1d8effd9e26c",
   "metadata": {},
   "source": [
    "What do the following two scripts return for\n",
    "\n",
    "a) x = True; y = True\n",
    "\n",
    "b) x = False; y = True\n",
    "\n",
    "c) x = True; y = False\n",
    "\n",
    "d) x = False; y = False"
   ]
  },
  {
   "cell_type": "code",
   "execution_count": null,
   "id": "7b1e1018-cd9c-4e42-9a18-b7855d4ae7ca",
   "metadata": {},
   "outputs": [],
   "source": [
    "if x:\n",
    "    print(\"Hello\")\n",
    "if y:                 # This check is completely independent of the previous one.\n",
    "    print(\"World\")\n",
    "else:                 # The \"else\" branch directly depends on the previous \"if\".\n",
    "    print(\"Bye bye\")"
   ]
  },
  {
   "cell_type": "code",
   "execution_count": null,
   "id": "c102ccc1-16f1-4221-9345-4d961a061eea",
   "metadata": {},
   "outputs": [],
   "source": [
    "if x:\n",
    "    print(\"Hello\")\n",
    "elif y:             # \"elif\" is short for else+if, so it depends on the previous \"if\".\n",
    "    print(\"World\")\n",
    "else:\n",
    "    print(\"Bye bye\")"
   ]
  },
  {
   "cell_type": "markdown",
   "id": "1b769cee-3943-4659-b244-6aa62cfed5b7",
   "metadata": {},
   "source": [
    "## While-loops\n",
    "\n",
    "```\n",
    "while expr:\n",
    "   block\n",
    "```\n",
    "\n",
    "Evaluate `expr`.\n",
    "\n",
    "If `False`: continue program after loop (next statement with same indent as `while`)\n",
    "\n",
    "If `True`: execute statements of block. Then go back to line 1."
   ]
  },
  {
   "cell_type": "code",
   "execution_count": null,
   "id": "1ca97a10-0144-466c-9367-c0c85426e356",
   "metadata": {},
   "outputs": [],
   "source": [
    "a = 8\n",
    "b = 1\n",
    "while a > 1:\n",
    "   b += 3\n",
    "   a = a / 2\n",
    "print(a, b)"
   ]
  },
  {
   "cell_type": "markdown",
   "id": "dcf03149-5637-4acc-8cbf-9d9b2f2a6a6c",
   "metadata": {},
   "source": [
    "What does this program output?"
   ]
  },
  {
   "cell_type": "markdown",
   "id": "817e88d0-1799-48f9-8576-00da280e7aff",
   "metadata": {},
   "source": [
    "# Lists\n",
    "\n",
    "Lists are defined with square brackets and commas: `[1, 2, 3]`\n",
    "\n",
    "Here are a few useful things you can do with them."
   ]
  },
  {
   "cell_type": "code",
   "execution_count": null,
   "id": "14e9b0e3-bf1c-48e8-b1aa-aadf9da900fd",
   "metadata": {},
   "outputs": [],
   "source": [
    "my_list = ['apples', 'bananas', 'citrus']  # declaring a list\n",
    "\n",
    "print(my_list[0])  # accessing the first element (counting starts at 0)\n",
    "print(my_list[0:2])  # accessing the elements at indexes 0 through 1 (end index is excluded)"
   ]
  },
  {
   "cell_type": "code",
   "execution_count": null,
   "id": "adf52c4e-f199-46bf-993f-105b3197cf78",
   "metadata": {},
   "outputs": [],
   "source": [
    "print(len(my_list))  # computing the length of the list"
   ]
  },
  {
   "cell_type": "code",
   "execution_count": null,
   "id": "dfdb348b-4388-45ba-97c0-9b37e42aefbb",
   "metadata": {},
   "outputs": [],
   "source": [
    "number_list = [1,3,5,3,2,3,5,6,7,5,3,2]\n",
    "\n",
    "print(set(number_list))  # reducing a list to the set of only the uniquely occuring values"
   ]
  },
  {
   "cell_type": "markdown",
   "id": "6c258c2c-353e-4975-b994-8c36accab1ae",
   "metadata": {},
   "source": [
    "If all the values in the list are numbers, you can even do some statistics!"
   ]
  },
  {
   "cell_type": "code",
   "execution_count": null,
   "id": "5a9b9270-2c4f-4947-a175-8f6ac557b55b",
   "metadata": {},
   "outputs": [],
   "source": [
    "print(max(number_list))   # extracting the maximum value\n",
    "print(min(number_list))   # extracting the minimum value"
   ]
  },
  {
   "cell_type": "code",
   "execution_count": null,
   "id": "19651371-912b-4081-92aa-131ca64ff103",
   "metadata": {},
   "outputs": [],
   "source": [
    "my_sum = sum(number_list)  # computing the sum of the values\n",
    "my_avg = my_sum / len(number_list)  # What does this do?\n",
    "\n",
    "print(my_sum)\n",
    "print(my_avg)"
   ]
  },
  {
   "cell_type": "markdown",
   "id": "6c1fd421-3920-4b11-99c3-37b3529bafb8",
   "metadata": {},
   "source": [
    "Lists can be changed! \n",
    "\n",
    "To add something to a list, use `my_list.append(item)`. It will get added at the end.\n",
    "\n",
    "There are a bunch of different ways to remove something from a list, depending on whether you want to get rid of a specific position (index) in the list (without knowing the value that is there), or a specific value (without knowing where it is in the list)."
   ]
  },
  {
   "cell_type": "code",
   "execution_count": null,
   "id": "7fa9c019-ce6c-41bf-bf29-d2e17ea6cc60",
   "metadata": {},
   "outputs": [],
   "source": [
    "my_list.append('dolphin')\n",
    "my_list.append(5)  # You can combine items of different types (e.g. strings and numbers) in the same list.\n",
    "\n",
    "print(my_list)"
   ]
  },
  {
   "cell_type": "code",
   "execution_count": null,
   "id": "44ec8377-2c13-4348-8c2d-f0fc758149d7",
   "metadata": {},
   "outputs": [],
   "source": [
    "del my_list[2]  # removes item at index 2 (third item)\n",
    "print(my_list)"
   ]
  },
  {
   "cell_type": "code",
   "execution_count": null,
   "id": "84bbe8f6-0b35-4f8a-a66b-d6b79f766074",
   "metadata": {},
   "outputs": [],
   "source": [
    "my_list.pop()  # removes last item\n",
    "print(my_list)"
   ]
  },
  {
   "cell_type": "code",
   "execution_count": null,
   "id": "abcbf075-0d11-49d1-895a-696840fb88e0",
   "metadata": {},
   "outputs": [],
   "source": [
    "new_list = [5,3,6,2,7,1,2,3,4,5]\n",
    "print(new_list)\n",
    "\n",
    "new_list.remove(3)  # removes first occurence of the given value\n",
    "print(new_list)"
   ]
  },
  {
   "cell_type": "markdown",
   "id": "eaabd82e-62d6-4106-afa9-3fbbcbecbf5d",
   "metadata": {},
   "source": [
    "# Tuples\n",
    "\n",
    "Tuples are similar to lists in many ways: They also store collections of objects of arbitrary types, keeping track of their order.\n",
    "You can access individual indexes and slices from a start index to an end index in the same way.\n",
    "\n",
    "The first obvious difference is that tuples use round parentheses rather than square brackets: `(1,2,3)`"
   ]
  },
  {
   "cell_type": "code",
   "execution_count": null,
   "id": "10fb060f-88d5-49d8-983a-5855b643ed2a",
   "metadata": {},
   "outputs": [],
   "source": [
    "my_tuple = ('apples', 'bananas', 'citrus')  # declaring a tuple\n",
    "\n",
    "print(my_tuple[0])  # accessing the first element (counting starts at 0)\n",
    "print(my_tuple[0:2])  # accessing the elements at indexes 0 through 1 (end index is excluded)\n",
    "\n",
    "print(len(my_tuple))  # computing the length of the list\n",
    "\n",
    "number_tuple = (1,3,5,3,2,3,5,6,7,5,3,2)\n",
    "\n",
    "print(set(number_tuple))  # reducing a list to the set of only the uniquely occuring values\n",
    "\n",
    "print(max(number_tuple))   # extracting the maximum value\n",
    "print(min(number_tuple))   # extracting the minimum value\n",
    "\n",
    "my_sum = sum(number_tuple)  # computing the sum of the values\n",
    "my_avg = my_sum / len(number_tuple)  # What does this do?\n",
    "\n",
    "print(my_sum)\n",
    "print(my_avg)"
   ]
  },
  {
   "cell_type": "markdown",
   "id": "9c7b3d5c-78b8-4aca-a875-ad1e79220417",
   "metadata": {},
   "source": [
    "The other major difference is that tuples cannot be changed after they have been declared!"
   ]
  },
  {
   "cell_type": "code",
   "execution_count": null,
   "id": "a54a53b5-db2e-464b-8f2b-d125059e14d1",
   "metadata": {},
   "outputs": [],
   "source": [
    "my_tuple.append('dolphin')  # throws an error\n",
    "\n",
    "del my_tuple[2]  # throws an error\n",
    "\n",
    "my_tuple.remove('apple')  # throws an error"
   ]
  },
  {
   "cell_type": "markdown",
   "id": "378d9d13-2790-41d8-b3bc-bb2a8cfc9e96",
   "metadata": {},
   "source": [
    "# Exercises\n",
    "\n",
    "Extract a list of all genres from `en_gum-ud-dev.conllu`! How many unique genres are there?"
   ]
  },
  {
   "cell_type": "code",
   "execution_count": null,
   "id": "f0941af1-a4e0-4412-9795-1e4bacb8343c",
   "metadata": {},
   "outputs": [],
   "source": [
    "# Your code here\n",
    "\n",
    "\n",
    "\n",
    "\n",
    "# Example solution (read and understand the code first, before running it!)\n",
    "#\n",
    "# genres = []\n",
    "# \n",
    "# with open(infile, encoding='utf-8') as f:\n",
    "#     for line in f:\n",
    "#         line = line.strip()\n",
    "#         if line.startswith('# meta::genre'):\n",
    "#             meta, genre = line.split(' = ')\n",
    "#             genres.append(genre)\n",
    "# \n",
    "# genres = set(genres)\n",
    "# print(genres)\n",
    "# print(len(genres))"
   ]
  },
  {
   "cell_type": "markdown",
   "id": "2fd742d6-1319-47b6-b250-5892e34b4daa",
   "metadata": {},
   "source": [
    "How many sentences are there in `en_gum-ud-dev.conllu`? How many in `en_gum-ud-train.conllu`?"
   ]
  },
  {
   "cell_type": "code",
   "execution_count": null,
   "id": "3169125d-4f2b-433d-ae0b-4b7a9e77acb5",
   "metadata": {},
   "outputs": [],
   "source": [
    "# Your code here\n",
    "\n",
    "\n",
    "\n",
    "\n",
    "\n",
    "\n",
    "# Example solution (read and understand the code first, before running it!)\n",
    "#\n",
    "# infile = pathlib.Path('UD_English-GUM', 'en_gum-ud-dev.conllu')\n",
    "# \n",
    "# n = 0\n",
    "# \n",
    "# with open(infile, encoding='utf-8') as f:\n",
    "#     for line in f:\n",
    "#         line = line.strip()\n",
    "#         if not line:\n",
    "#         # if line.startswith('# text ='):\n",
    "#             n += 1\n",
    "# \n",
    "# print(n, 'sentences in dev')\n",
    "# \n",
    "# infile = pathlib.Path('UD_English-GUM', 'en_gum-ud-train.conllu')\n",
    "# \n",
    "# n = 0\n",
    "# \n",
    "# with open(infile, encoding='utf-8') as f:\n",
    "#     for line in f:\n",
    "#         line = line.strip()\n",
    "#         if not line:\n",
    "#             n += 1\n",
    "# \n",
    "# print(n, 'sentences in train')"
   ]
  },
  {
   "cell_type": "markdown",
   "id": "3ba3adc9-2640-4a13-ad00-3fc152ddab7c",
   "metadata": {},
   "source": [
    "What is the average, maximum, mininum sentence length in terms of number of word tokens in `en_gum-ud-train.conllu`?"
   ]
  },
  {
   "cell_type": "code",
   "execution_count": null,
   "id": "f5c5f98e-b2d4-430d-abdd-9b29bbdb44ba",
   "metadata": {},
   "outputs": [],
   "source": [
    "# Your code here"
   ]
  },
  {
   "cell_type": "markdown",
   "id": "edb00e6b-7aa8-45a7-bd12-d43641d67089",
   "metadata": {},
   "source": [
    "What is the average sentence length in terms of number of word tokens in `en_gum-ud-train.conllu` __per genre__?"
   ]
  },
  {
   "cell_type": "code",
   "execution_count": null,
   "id": "f290b308-63dc-4bbe-a610-e5e7ad4ed08f",
   "metadata": {},
   "outputs": [],
   "source": [
    "# Your code here"
   ]
  }
 ],
 "metadata": {
  "kernelspec": {
   "display_name": "Python 3 (ipykernel)",
   "language": "python",
   "name": "python3"
  },
  "language_info": {
   "codemirror_mode": {
    "name": "ipython",
    "version": 3
   },
   "file_extension": ".py",
   "mimetype": "text/x-python",
   "name": "python",
   "nbconvert_exporter": "python",
   "pygments_lexer": "ipython3",
   "version": "3.9.13"
  }
 },
 "nbformat": 4,
 "nbformat_minor": 5
}
