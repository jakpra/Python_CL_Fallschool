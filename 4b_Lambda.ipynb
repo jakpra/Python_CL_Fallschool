{
 "cells": [
  {
   "cell_type": "markdown",
   "metadata": {},
   "source": [
    "## Introduction to Python Programming\n",
    "[**CC-BY-NC-SA**](https://creativecommons.org/licenses/by-nc-sa/4.0/deed.en)<br/>\n",
    "Prof. Dr. Annemarie Friedrich<br/>\n",
    "with some minor edits by Dr. Jakob Prange<br/>\n",
    "Faculty of Applied Computer Science, University of Augsburg<br/>"
   ]
  },
  {
   "cell_type": "markdown",
   "metadata": {},
   "source": [
    "## 4a Anonymous Functions: `lambda`\n",
    "\n",
    "In this notebook, we will take a look at another way of defining functions.\n",
    "Recall that any function in Python is an object.\n",
    "The regular way of defining functions in Python works as follows."
   ]
  },
  {
   "cell_type": "code",
   "execution_count": null,
   "metadata": {},
   "outputs": [],
   "source": [
    "def add(x, y):\n",
    "    \"\"\"Computes the sum of x and y.\"\"\"\n",
    "    return x + y\n",
    "\n",
    "add2 = add\n",
    "\n",
    "print(add, add2)\n"
   ]
  },
  {
   "cell_type": "markdown",
   "metadata": {},
   "source": [
    "In Python, we can easily assign the function object to other variable names, which then point to the same function object. Above, the printout tells us that both `add` and `add2` point to the same function object (as indicated by the same memory location shown).\n",
    "\n",
    "The `lambda` parameter offers a convenient way to define small functions briefly. Lambda functions can take parameters, but they cannot be used together with function annotations.\n",
    "\n",
    "The expression within the `print` function below defines a function object. In this case, this function does not have a name, i.e., no variable points to it, it is \"anonymous.\""
   ]
  },
  {
   "cell_type": "code",
   "execution_count": null,
   "metadata": {},
   "outputs": [],
   "source": [
    "print(lambda : print(\"Hello world\"))"
   ]
  },
  {
   "cell_type": "markdown",
   "metadata": {},
   "source": [
    "Like with regular functions, we can even assign this function object to a variable. (Although in such a case, a regular function definition with a proper docstring would highly recommended!)"
   ]
  },
  {
   "cell_type": "code",
   "execution_count": null,
   "metadata": {},
   "outputs": [],
   "source": [
    "helloWorld = lambda : print(\"Hello world\")\n",
    "helloWorld()"
   ]
  },
  {
   "cell_type": "markdown",
   "metadata": {},
   "source": [
    "Lambda expression can also take parameters:"
   ]
  },
  {
   "cell_type": "code",
   "execution_count": null,
   "metadata": {},
   "outputs": [],
   "source": [
    "add = lambda x, y : x + y\n",
    "print(add(2, 1))"
   ]
  },
  {
   "cell_type": "markdown",
   "metadata": {},
   "source": [
    "As said above, lambda expressions are intended to be used when you actually do NOT want to name your function, e.g., because it is just in a particular context. One such use case is defining a short function that determines how to sort a list, as follows."
   ]
  },
  {
   "cell_type": "code",
   "execution_count": null,
   "metadata": {},
   "outputs": [],
   "source": [
    "people = [\n",
    "    (\"Bob\", 30),\n",
    "    (\"Alice\", 25),\n",
    "    (\"Charlie\", 35),\n",
    "    (\"Eva\", 28),\n",
    "    (\"David\", 32)\n",
    "]\n",
    "\n",
    "people.sort() # By default, this sorts by the value of the first tuple.\n",
    "print(people)"
   ]
  },
  {
   "cell_type": "markdown",
   "metadata": {},
   "source": [
    "The `sort()` function accepts a keyword argument called `key` which expects a function that takes one item of the list at a time and returns the part of the item according to which the list should be sorted. In the following, we define such a function explicitly and pass it to the `sort()` function (as a reference to that function object)."
   ]
  },
  {
   "cell_type": "code",
   "execution_count": null,
   "metadata": {},
   "outputs": [],
   "source": [
    "def get_age(person):\n",
    "    \"\"\" Returns the age of the person \"\"\"\n",
    "    return person[1] # 2nd element corresponds to the age\n",
    "\n",
    "people.sort(key = get_age) # By default, this sorts by the value of the first tuple.\n",
    "print(people)"
   ]
  },
  {
   "cell_type": "markdown",
   "metadata": {},
   "source": [
    "Because that is a lot of code and such functions are usually simple and easy to read, we usually use lambda expressions in such cases. Much less code!"
   ]
  },
  {
   "cell_type": "code",
   "execution_count": null,
   "metadata": {},
   "outputs": [],
   "source": [
    "people.sort(key = lambda x: x[1]) # Sort by age (second entry of tuples in list)\n",
    "print(people)"
   ]
  },
  {
   "cell_type": "markdown",
   "metadata": {},
   "source": [
    "In the context of default dictionaries, there is an other interesting use case for lambda expressions. As illustrated by the following example, in a `defaultdict`, the following steps happen when trying to get an item using the bracket notation:\n",
    "* Under the hood, Python calls a function called `__getitem__(key)`.\n",
    "* This function triggers the mechanism for inserting a default value under that key into the dictionary, and returning that value for further processing.\n",
    "* If we enter a type name like `int` below when creating the `defaultdict`, it will create the default value for that type (e.g., `0` for `int`).\n",
    "* Instead, we can use a lambda expression that is called and returns some default value to be inserted."
   ]
  },
  {
   "cell_type": "code",
   "execution_count": null,
   "metadata": {},
   "outputs": [],
   "source": [
    "from collections import defaultdict\n",
    "\n",
    "d = defaultdict(int)\n",
    "d[\"someKey\"] += 1\n",
    "print(d)\n",
    "\n",
    "# This has the same effect\n",
    "d = defaultdict(lambda: 0)\n",
    "d[\"someKey\"] += 1\n",
    "print(d)\n",
    "\n",
    "print(d[\"another_key\"]) # This calls d.__getitem__(key) and triggers the mechanism for creating an inserting the default value under key\n",
    "print(d.get(\"another_unknown_key\")) # This just accesses the key value, if it does not exist, it returns None!"
   ]
  },
  {
   "cell_type": "markdown",
   "metadata": {},
   "source": [
    "It may be useful to create a defaultdict that has inner defaultdicts.\n",
    "However, when you execute the following line of code, what happens? And why is that?"
   ]
  },
  {
   "cell_type": "code",
   "execution_count": null,
   "metadata": {},
   "outputs": [],
   "source": [
    "d = defaultdict(defaultdict(int))"
   ]
  },
  {
   "cell_type": "markdown",
   "metadata": {},
   "source": [
    "Let's take a look at this error message: the input to `defaultdict()` must be a function. Why did this work for `int`? This is because the built-in classes in Python are _callable_ (we will talk more about this later), i.e., they can behave as a function. And `int`, as we see below, is a class. But what about `defaultdict(int)`?"
   ]
  },
  {
   "cell_type": "code",
   "execution_count": null,
   "metadata": {},
   "outputs": [],
   "source": [
    "print(\"int:\", int)\n",
    "print(\"defaultdict(int):\", defaultdict(int))"
   ]
  },
  {
   "cell_type": "markdown",
   "metadata": {},
   "source": [
    "This output tells us that `int` is a class, but that `defaultdict(int)` is a concrete value, a defaultdict that uses default values from `<class 'int'>` and that is currently an empty dictionary.\n",
    "\n",
    "Hence, we need to fix that! We need a function that returns a defaultdict with integers as their default value. Thanks to the lambda function, this is easy:"
   ]
  },
  {
   "cell_type": "code",
   "execution_count": null,
   "metadata": {},
   "outputs": [],
   "source": [
    "# Third part\n",
    "d = defaultdict(lambda: defaultdict(int))\n",
    "d[\"test\"]\n",
    "print(d)"
   ]
  },
  {
   "cell_type": "markdown",
   "metadata": {},
   "source": [
    "Remember this \"recipe,\" it's quite handy!"
   ]
  },
  {
   "cell_type": "markdown",
   "metadata": {},
   "source": [
    "### Exercise 1\n",
    "\n",
    "Modify the example from above such that it sorts by the reversed names (use a lambda expression!).\n",
    "Self-check: should print `[('Eva', 28), ('Bob', 30), ('David', 32), ('Alice', 25), ('Charlie', 35)]`"
   ]
  },
  {
   "cell_type": "code",
   "execution_count": null,
   "metadata": {},
   "outputs": [],
   "source": [
    "# Your code here"
   ]
  },
  {
   "cell_type": "markdown",
   "metadata": {},
   "source": [
    "### Exercise 2\n",
    "\n",
    "1. Create a default dictionary whose default value is a string \"Hello\". Then, insert some values into the dictionary such that the dictionary looks like this:\n",
    "``` d = {\"Tom\" : \"Hello Tom\", \"Susie\": \"Hello Susie\"}\n",
    "```\n",
    "\n",
    "2. Create a default dictionary whose default value is an empty dictionary.\n",
    "\n",
    "3. Create a default dictionary whose default value is a default dictionary with empty lists. The following line should be executable right after constructing the default dictionary: `d[\"outer level\"][\"inner level\"].append(\"inside list\")` -- inspect the results!"
   ]
  },
  {
   "cell_type": "code",
   "execution_count": null,
   "metadata": {},
   "outputs": [],
   "source": [
    "# Your code here"
   ]
  }
 ],
 "metadata": {
  "kernelspec": {
   "display_name": "Python 3 (ipykernel)",
   "language": "python",
   "name": "python3"
  },
  "language_info": {
   "codemirror_mode": {
    "name": "ipython",
    "version": 3
   },
   "file_extension": ".py",
   "mimetype": "text/x-python",
   "name": "python",
   "nbconvert_exporter": "python",
   "pygments_lexer": "ipython3",
   "version": "3.9.13"
  }
 },
 "nbformat": 4,
 "nbformat_minor": 4
}
