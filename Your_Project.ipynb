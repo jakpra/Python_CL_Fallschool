{
 "cells": [
  {
   "cell_type": "markdown",
   "id": "b3bf855f-c6dd-4b53-84a1-b969746a4093",
   "metadata": {},
   "source": [
    "# Come up with your own project!\n",
    "\n",
    "Define your programming project at a high level (individual or in small groups)!\n",
    "\n",
    "Here is a recommended outline to get you started:\n",
    "\n",
    "__Task:__ extract most frequent words / annotations from (sub-)corpora by genre\n",
    "\n",
    "__Data:__ UD_English-GUM\n",
    "\n",
    "Now it's your turn:\n",
    "- pick two genres out of {academic, bio, conversation, court, essay, fiction, interview, letter, news, podcast, speech, textbook, vlog, voyage, whow}\n",
    "- pick a language feature out of {POS, MORPH, DEPREL, Stopwords, SentenceLength, WordLength}\n",
    "- formulate a research question and/or hypothesis about\n",
    "    a) what frequency difference you expect between the two genres and\n",
    "    b) what this difference could mean (e.g. in terms of how language works, who the authors/audiences are, how we can apply AI to the texts)\n",
    "\n",
    "- coding: read UD GUM file(s), parse CoNLL format, count feature statistics\n",
    "\n",
    "__Important:__ Document your code and your coding process, try to answer your research question as much as possible and come up with explanations for your findings, explain difficulties."
   ]
  },
  {
   "cell_type": "markdown",
   "id": "688dc039-f3e6-4e65-8bc8-db8d35cc8aba",
   "metadata": {},
   "source": [
    "Space for your notes"
   ]
  },
  {
   "cell_type": "code",
   "execution_count": null,
   "id": "13ccb864-c742-4342-bac0-d9567b8a395a",
   "metadata": {},
   "outputs": [],
   "source": [
    "# Your code here"
   ]
  }
 ],
 "metadata": {
  "kernelspec": {
   "display_name": "Python 3 (ipykernel)",
   "language": "python",
   "name": "python3"
  },
  "language_info": {
   "codemirror_mode": {
    "name": "ipython",
    "version": 3
   },
   "file_extension": ".py",
   "mimetype": "text/x-python",
   "name": "python",
   "nbconvert_exporter": "python",
   "pygments_lexer": "ipython3",
   "version": "3.9.13"
  }
 },
 "nbformat": 4,
 "nbformat_minor": 5
}
